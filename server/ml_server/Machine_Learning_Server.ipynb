{
  "cells": [
    {
      "cell_type": "code",
      "execution_count": null,
      "metadata": {
        "id": "bD0qJaTepu-Z"
      },
      "outputs": [],
      "source": [
        "import pandas as pd"
      ]
    },
    {
      "cell_type": "code",
      "execution_count": null,
      "metadata": {
        "id": "_3_0d5Htpynk"
      },
      "outputs": [],
      "source": [
        "df = pd.read_csv('./Specialist Classification - Specialist Classification.csv')"
      ]
    },
    {
      "cell_type": "code",
      "execution_count": null,
      "metadata": {
        "id": "5weXjxl4p6Te"
      },
      "outputs": [],
      "source": [
        "df_train = df.iloc[:, [3,5]]"
      ]
    },
    {
      "cell_type": "code",
      "execution_count": null,
      "metadata": {
        "colab": {
          "base_uri": "https://localhost:8080/",
          "height": 206
        },
        "id": "0F9RmAutqo7Y",
        "outputId": "0b199605-c6ff-4ef8-9bc5-5112327ce6b0"
      },
      "outputs": [
        {
          "output_type": "execute_result",
          "data": {
            "text/plain": [
              "                                  Problem In English Specialist\n",
              "0            I have a lot of headache for three days   Medicine\n",
              "1  I have to hold my head as soon as I am in the ...   Medicine\n",
              "2       My sister's eyes and headache for a few days   Medicine\n",
              "3  My mom causes a lot of pain on the two sides o...   Medicine\n",
              "4                           I have a lot of headache   Medicine"
            ],
            "text/html": [
              "\n",
              "  <div id=\"df-ab4a64f6-a077-4971-b1b5-48ef87a3c4e6\">\n",
              "    <div class=\"colab-df-container\">\n",
              "      <div>\n",
              "<style scoped>\n",
              "    .dataframe tbody tr th:only-of-type {\n",
              "        vertical-align: middle;\n",
              "    }\n",
              "\n",
              "    .dataframe tbody tr th {\n",
              "        vertical-align: top;\n",
              "    }\n",
              "\n",
              "    .dataframe thead th {\n",
              "        text-align: right;\n",
              "    }\n",
              "</style>\n",
              "<table border=\"1\" class=\"dataframe\">\n",
              "  <thead>\n",
              "    <tr style=\"text-align: right;\">\n",
              "      <th></th>\n",
              "      <th>Problem In English</th>\n",
              "      <th>Specialist</th>\n",
              "    </tr>\n",
              "  </thead>\n",
              "  <tbody>\n",
              "    <tr>\n",
              "      <th>0</th>\n",
              "      <td>I have a lot of headache for three days</td>\n",
              "      <td>Medicine</td>\n",
              "    </tr>\n",
              "    <tr>\n",
              "      <th>1</th>\n",
              "      <td>I have to hold my head as soon as I am in the ...</td>\n",
              "      <td>Medicine</td>\n",
              "    </tr>\n",
              "    <tr>\n",
              "      <th>2</th>\n",
              "      <td>My sister's eyes and headache for a few days</td>\n",
              "      <td>Medicine</td>\n",
              "    </tr>\n",
              "    <tr>\n",
              "      <th>3</th>\n",
              "      <td>My mom causes a lot of pain on the two sides o...</td>\n",
              "      <td>Medicine</td>\n",
              "    </tr>\n",
              "    <tr>\n",
              "      <th>4</th>\n",
              "      <td>I have a lot of headache</td>\n",
              "      <td>Medicine</td>\n",
              "    </tr>\n",
              "  </tbody>\n",
              "</table>\n",
              "</div>\n",
              "      <button class=\"colab-df-convert\" onclick=\"convertToInteractive('df-ab4a64f6-a077-4971-b1b5-48ef87a3c4e6')\"\n",
              "              title=\"Convert this dataframe to an interactive table.\"\n",
              "              style=\"display:none;\">\n",
              "        \n",
              "  <svg xmlns=\"http://www.w3.org/2000/svg\" height=\"24px\"viewBox=\"0 0 24 24\"\n",
              "       width=\"24px\">\n",
              "    <path d=\"M0 0h24v24H0V0z\" fill=\"none\"/>\n",
              "    <path d=\"M18.56 5.44l.94 2.06.94-2.06 2.06-.94-2.06-.94-.94-2.06-.94 2.06-2.06.94zm-11 1L8.5 8.5l.94-2.06 2.06-.94-2.06-.94L8.5 2.5l-.94 2.06-2.06.94zm10 10l.94 2.06.94-2.06 2.06-.94-2.06-.94-.94-2.06-.94 2.06-2.06.94z\"/><path d=\"M17.41 7.96l-1.37-1.37c-.4-.4-.92-.59-1.43-.59-.52 0-1.04.2-1.43.59L10.3 9.45l-7.72 7.72c-.78.78-.78 2.05 0 2.83L4 21.41c.39.39.9.59 1.41.59.51 0 1.02-.2 1.41-.59l7.78-7.78 2.81-2.81c.8-.78.8-2.07 0-2.86zM5.41 20L4 18.59l7.72-7.72 1.47 1.35L5.41 20z\"/>\n",
              "  </svg>\n",
              "      </button>\n",
              "      \n",
              "  <style>\n",
              "    .colab-df-container {\n",
              "      display:flex;\n",
              "      flex-wrap:wrap;\n",
              "      gap: 12px;\n",
              "    }\n",
              "\n",
              "    .colab-df-convert {\n",
              "      background-color: #E8F0FE;\n",
              "      border: none;\n",
              "      border-radius: 50%;\n",
              "      cursor: pointer;\n",
              "      display: none;\n",
              "      fill: #1967D2;\n",
              "      height: 32px;\n",
              "      padding: 0 0 0 0;\n",
              "      width: 32px;\n",
              "    }\n",
              "\n",
              "    .colab-df-convert:hover {\n",
              "      background-color: #E2EBFA;\n",
              "      box-shadow: 0px 1px 2px rgba(60, 64, 67, 0.3), 0px 1px 3px 1px rgba(60, 64, 67, 0.15);\n",
              "      fill: #174EA6;\n",
              "    }\n",
              "\n",
              "    [theme=dark] .colab-df-convert {\n",
              "      background-color: #3B4455;\n",
              "      fill: #D2E3FC;\n",
              "    }\n",
              "\n",
              "    [theme=dark] .colab-df-convert:hover {\n",
              "      background-color: #434B5C;\n",
              "      box-shadow: 0px 1px 3px 1px rgba(0, 0, 0, 0.15);\n",
              "      filter: drop-shadow(0px 1px 2px rgba(0, 0, 0, 0.3));\n",
              "      fill: #FFFFFF;\n",
              "    }\n",
              "  </style>\n",
              "\n",
              "      <script>\n",
              "        const buttonEl =\n",
              "          document.querySelector('#df-ab4a64f6-a077-4971-b1b5-48ef87a3c4e6 button.colab-df-convert');\n",
              "        buttonEl.style.display =\n",
              "          google.colab.kernel.accessAllowed ? 'block' : 'none';\n",
              "\n",
              "        async function convertToInteractive(key) {\n",
              "          const element = document.querySelector('#df-ab4a64f6-a077-4971-b1b5-48ef87a3c4e6');\n",
              "          const dataTable =\n",
              "            await google.colab.kernel.invokeFunction('convertToInteractive',\n",
              "                                                     [key], {});\n",
              "          if (!dataTable) return;\n",
              "\n",
              "          const docLinkHtml = 'Like what you see? Visit the ' +\n",
              "            '<a target=\"_blank\" href=https://colab.research.google.com/notebooks/data_table.ipynb>data table notebook</a>'\n",
              "            + ' to learn more about interactive tables.';\n",
              "          element.innerHTML = '';\n",
              "          dataTable['output_type'] = 'display_data';\n",
              "          await google.colab.output.renderOutput(dataTable, element);\n",
              "          const docLink = document.createElement('div');\n",
              "          docLink.innerHTML = docLinkHtml;\n",
              "          element.appendChild(docLink);\n",
              "        }\n",
              "      </script>\n",
              "    </div>\n",
              "  </div>\n",
              "  "
            ]
          },
          "metadata": {},
          "execution_count": 4
        }
      ],
      "source": [
        "df_train.head()"
      ]
    },
    {
      "cell_type": "code",
      "execution_count": null,
      "metadata": {
        "id": "rmFYvMbkp_hO"
      },
      "outputs": [],
      "source": [
        "from keras.preprocessing.text import Tokenizer\n",
        "import numpy as np"
      ]
    },
    {
      "cell_type": "code",
      "execution_count": null,
      "metadata": {
        "colab": {
          "base_uri": "https://localhost:8080/"
        },
        "id": "zMe9zbX4q344",
        "outputId": "b8dfdaa0-5dee-4404-fee6-ec92f8ba8b86"
      },
      "outputs": [
        {
          "output_type": "execute_result",
          "data": {
            "text/plain": [
              "0             Medicine\n",
              "1             Medicine\n",
              "2             Medicine\n",
              "3             Medicine\n",
              "4             Medicine\n",
              "            ...       \n",
              "653            Surgery\n",
              "654            Dentist\n",
              "655               Skin\n",
              "656            Surgery\n",
              "657    Ophthalmologist\n",
              "Name: Specialist, Length: 658, dtype: object"
            ]
          },
          "metadata": {},
          "execution_count": 6
        }
      ],
      "source": [
        "df_train.iloc[:,1]"
      ]
    },
    {
      "cell_type": "code",
      "execution_count": null,
      "metadata": {
        "colab": {
          "base_uri": "https://localhost:8080/"
        },
        "id": "ahS8U3uDqdO1",
        "outputId": "7c3b9f5a-2c2b-4f6c-bca7-56fe10b5701d"
      },
      "outputs": [
        {
          "output_type": "stream",
          "name": "stdout",
          "text": [
            "target_vocab_size: 10\n"
          ]
        },
        {
          "output_type": "stream",
          "name": "stderr",
          "text": [
            "/usr/local/lib/python3.7/dist-packages/pandas/core/indexing.py:1951: SettingWithCopyWarning: \n",
            "A value is trying to be set on a copy of a slice from a DataFrame.\n",
            "Try using .loc[row_indexer,col_indexer] = value instead\n",
            "\n",
            "See the caveats in the documentation: https://pandas.pydata.org/pandas-docs/stable/user_guide/indexing.html#returning-a-view-versus-a-copy\n",
            "  self.obj[selected_item_labels] = value\n"
          ]
        }
      ],
      "source": [
        "target_tokenizer = Tokenizer(30)\n",
        "target_tokenizer.fit_on_texts(df_train.iloc[:,1])\n",
        "target_vocab_size = len(target_tokenizer.word_index) + 1\n",
        "df_train.iloc[:,1] = np.array(target_tokenizer.texts_to_sequences(df_train.iloc[:,1])) -1\n",
        "# df_train.iloc[:,1] = df_train.iloc[:,1].reshape(df_train.iloc[:,1].shape[0])\n",
        "print(\"target_vocab_size:\",target_vocab_size)"
      ]
    },
    {
      "cell_type": "code",
      "execution_count": null,
      "metadata": {
        "colab": {
          "base_uri": "https://localhost:8080/"
        },
        "id": "3z2nTdUSqzFu",
        "outputId": "c608a3e7-6e22-4113-c884-304bdae35ea6"
      },
      "outputs": [
        {
          "output_type": "execute_result",
          "data": {
            "text/plain": [
              "dict_items([('medicine', 1), ('ophthalmologist', 2), ('gynecologist', 3), ('surgery', 4), ('orthopedic', 5), ('cardiologist', 6), ('skin', 7), ('dentist', 8), ('ent', 9)])"
            ]
          },
          "metadata": {},
          "execution_count": 8
        }
      ],
      "source": [
        "target_tokenizer.word_index.items()"
      ]
    },
    {
      "cell_type": "code",
      "execution_count": null,
      "metadata": {
        "colab": {
          "base_uri": "https://localhost:8080/",
          "height": 206
        },
        "id": "CSnzmrUErNo-",
        "outputId": "f1e16b56-f6f3-44a7-fd5b-906ba0c7849d"
      },
      "outputs": [
        {
          "output_type": "execute_result",
          "data": {
            "text/plain": [
              "                                  Problem In English  Specialist\n",
              "0            I have a lot of headache for three days           0\n",
              "1  I have to hold my head as soon as I am in the ...           0\n",
              "2       My sister's eyes and headache for a few days           0\n",
              "3  My mom causes a lot of pain on the two sides o...           0\n",
              "4                           I have a lot of headache           0"
            ],
            "text/html": [
              "\n",
              "  <div id=\"df-f0f5d3eb-6afc-48a5-a3c9-c25c0cd7dcfb\">\n",
              "    <div class=\"colab-df-container\">\n",
              "      <div>\n",
              "<style scoped>\n",
              "    .dataframe tbody tr th:only-of-type {\n",
              "        vertical-align: middle;\n",
              "    }\n",
              "\n",
              "    .dataframe tbody tr th {\n",
              "        vertical-align: top;\n",
              "    }\n",
              "\n",
              "    .dataframe thead th {\n",
              "        text-align: right;\n",
              "    }\n",
              "</style>\n",
              "<table border=\"1\" class=\"dataframe\">\n",
              "  <thead>\n",
              "    <tr style=\"text-align: right;\">\n",
              "      <th></th>\n",
              "      <th>Problem In English</th>\n",
              "      <th>Specialist</th>\n",
              "    </tr>\n",
              "  </thead>\n",
              "  <tbody>\n",
              "    <tr>\n",
              "      <th>0</th>\n",
              "      <td>I have a lot of headache for three days</td>\n",
              "      <td>0</td>\n",
              "    </tr>\n",
              "    <tr>\n",
              "      <th>1</th>\n",
              "      <td>I have to hold my head as soon as I am in the ...</td>\n",
              "      <td>0</td>\n",
              "    </tr>\n",
              "    <tr>\n",
              "      <th>2</th>\n",
              "      <td>My sister's eyes and headache for a few days</td>\n",
              "      <td>0</td>\n",
              "    </tr>\n",
              "    <tr>\n",
              "      <th>3</th>\n",
              "      <td>My mom causes a lot of pain on the two sides o...</td>\n",
              "      <td>0</td>\n",
              "    </tr>\n",
              "    <tr>\n",
              "      <th>4</th>\n",
              "      <td>I have a lot of headache</td>\n",
              "      <td>0</td>\n",
              "    </tr>\n",
              "  </tbody>\n",
              "</table>\n",
              "</div>\n",
              "      <button class=\"colab-df-convert\" onclick=\"convertToInteractive('df-f0f5d3eb-6afc-48a5-a3c9-c25c0cd7dcfb')\"\n",
              "              title=\"Convert this dataframe to an interactive table.\"\n",
              "              style=\"display:none;\">\n",
              "        \n",
              "  <svg xmlns=\"http://www.w3.org/2000/svg\" height=\"24px\"viewBox=\"0 0 24 24\"\n",
              "       width=\"24px\">\n",
              "    <path d=\"M0 0h24v24H0V0z\" fill=\"none\"/>\n",
              "    <path d=\"M18.56 5.44l.94 2.06.94-2.06 2.06-.94-2.06-.94-.94-2.06-.94 2.06-2.06.94zm-11 1L8.5 8.5l.94-2.06 2.06-.94-2.06-.94L8.5 2.5l-.94 2.06-2.06.94zm10 10l.94 2.06.94-2.06 2.06-.94-2.06-.94-.94-2.06-.94 2.06-2.06.94z\"/><path d=\"M17.41 7.96l-1.37-1.37c-.4-.4-.92-.59-1.43-.59-.52 0-1.04.2-1.43.59L10.3 9.45l-7.72 7.72c-.78.78-.78 2.05 0 2.83L4 21.41c.39.39.9.59 1.41.59.51 0 1.02-.2 1.41-.59l7.78-7.78 2.81-2.81c.8-.78.8-2.07 0-2.86zM5.41 20L4 18.59l7.72-7.72 1.47 1.35L5.41 20z\"/>\n",
              "  </svg>\n",
              "      </button>\n",
              "      \n",
              "  <style>\n",
              "    .colab-df-container {\n",
              "      display:flex;\n",
              "      flex-wrap:wrap;\n",
              "      gap: 12px;\n",
              "    }\n",
              "\n",
              "    .colab-df-convert {\n",
              "      background-color: #E8F0FE;\n",
              "      border: none;\n",
              "      border-radius: 50%;\n",
              "      cursor: pointer;\n",
              "      display: none;\n",
              "      fill: #1967D2;\n",
              "      height: 32px;\n",
              "      padding: 0 0 0 0;\n",
              "      width: 32px;\n",
              "    }\n",
              "\n",
              "    .colab-df-convert:hover {\n",
              "      background-color: #E2EBFA;\n",
              "      box-shadow: 0px 1px 2px rgba(60, 64, 67, 0.3), 0px 1px 3px 1px rgba(60, 64, 67, 0.15);\n",
              "      fill: #174EA6;\n",
              "    }\n",
              "\n",
              "    [theme=dark] .colab-df-convert {\n",
              "      background-color: #3B4455;\n",
              "      fill: #D2E3FC;\n",
              "    }\n",
              "\n",
              "    [theme=dark] .colab-df-convert:hover {\n",
              "      background-color: #434B5C;\n",
              "      box-shadow: 0px 1px 3px 1px rgba(0, 0, 0, 0.15);\n",
              "      filter: drop-shadow(0px 1px 2px rgba(0, 0, 0, 0.3));\n",
              "      fill: #FFFFFF;\n",
              "    }\n",
              "  </style>\n",
              "\n",
              "      <script>\n",
              "        const buttonEl =\n",
              "          document.querySelector('#df-f0f5d3eb-6afc-48a5-a3c9-c25c0cd7dcfb button.colab-df-convert');\n",
              "        buttonEl.style.display =\n",
              "          google.colab.kernel.accessAllowed ? 'block' : 'none';\n",
              "\n",
              "        async function convertToInteractive(key) {\n",
              "          const element = document.querySelector('#df-f0f5d3eb-6afc-48a5-a3c9-c25c0cd7dcfb');\n",
              "          const dataTable =\n",
              "            await google.colab.kernel.invokeFunction('convertToInteractive',\n",
              "                                                     [key], {});\n",
              "          if (!dataTable) return;\n",
              "\n",
              "          const docLinkHtml = 'Like what you see? Visit the ' +\n",
              "            '<a target=\"_blank\" href=https://colab.research.google.com/notebooks/data_table.ipynb>data table notebook</a>'\n",
              "            + ' to learn more about interactive tables.';\n",
              "          element.innerHTML = '';\n",
              "          dataTable['output_type'] = 'display_data';\n",
              "          await google.colab.output.renderOutput(dataTable, element);\n",
              "          const docLink = document.createElement('div');\n",
              "          docLink.innerHTML = docLinkHtml;\n",
              "          element.appendChild(docLink);\n",
              "        }\n",
              "      </script>\n",
              "    </div>\n",
              "  </div>\n",
              "  "
            ]
          },
          "metadata": {},
          "execution_count": 9
        }
      ],
      "source": [
        "df_train.head()"
      ]
    },
    {
      "cell_type": "code",
      "execution_count": null,
      "metadata": {
        "colab": {
          "base_uri": "https://localhost:8080/"
        },
        "id": "b6rM-hAowUSw",
        "outputId": "f43586e4-51b3-4fc7-e35c-ba6f28592f3f"
      },
      "outputs": [
        {
          "output_type": "execute_result",
          "data": {
            "text/plain": [
              "{1: 'medicine',\n",
              " 2: 'ophthalmologist',\n",
              " 3: 'gynecologist',\n",
              " 4: 'surgery',\n",
              " 5: 'orthopedic',\n",
              " 6: 'cardiologist',\n",
              " 7: 'skin',\n",
              " 8: 'dentist',\n",
              " 9: 'ent'}"
            ]
          },
          "metadata": {},
          "execution_count": 10
        }
      ],
      "source": [
        "target_reverse_word_index = {v: k for k, v in list(target_tokenizer.word_index.items())}\n",
        "target_reverse_word_index"
      ]
    },
    {
      "cell_type": "code",
      "execution_count": null,
      "metadata": {
        "id": "3cZPKvdLrzB9"
      },
      "outputs": [],
      "source": [
        "from tensorflow.keras.utils import to_categorical\n",
        "y_train = to_categorical(df_train.Specialist)\n",
        "# y_test = to_categorical(df_test.Sentiment)"
      ]
    },
    {
      "cell_type": "code",
      "execution_count": null,
      "metadata": {
        "colab": {
          "base_uri": "https://localhost:8080/"
        },
        "id": "AzyRB6rpr_BX",
        "outputId": "16862704-0394-4e02-aa61-711551049453"
      },
      "outputs": [
        {
          "output_type": "stream",
          "name": "stdout",
          "text": [
            "Looking in indexes: https://pypi.org/simple, https://us-python.pkg.dev/colab-wheels/public/simple/\n",
            "Collecting transformers\n",
            "  Downloading transformers-4.20.1-py3-none-any.whl (4.4 MB)\n",
            "\u001b[K     |████████████████████████████████| 4.4 MB 7.3 MB/s \n",
            "\u001b[?25hRequirement already satisfied: importlib-metadata in /usr/local/lib/python3.7/dist-packages (from transformers) (4.12.0)\n",
            "Collecting pyyaml>=5.1\n",
            "  Downloading PyYAML-6.0-cp37-cp37m-manylinux_2_5_x86_64.manylinux1_x86_64.manylinux_2_12_x86_64.manylinux2010_x86_64.whl (596 kB)\n",
            "\u001b[K     |████████████████████████████████| 596 kB 63.1 MB/s \n",
            "\u001b[?25hRequirement already satisfied: filelock in /usr/local/lib/python3.7/dist-packages (from transformers) (3.7.1)\n",
            "Requirement already satisfied: requests in /usr/local/lib/python3.7/dist-packages (from transformers) (2.23.0)\n",
            "Collecting huggingface-hub<1.0,>=0.1.0\n",
            "  Downloading huggingface_hub-0.8.1-py3-none-any.whl (101 kB)\n",
            "\u001b[K     |████████████████████████████████| 101 kB 13.9 MB/s \n",
            "\u001b[?25hRequirement already satisfied: regex!=2019.12.17 in /usr/local/lib/python3.7/dist-packages (from transformers) (2022.6.2)\n",
            "Collecting tokenizers!=0.11.3,<0.13,>=0.11.1\n",
            "  Downloading tokenizers-0.12.1-cp37-cp37m-manylinux_2_12_x86_64.manylinux2010_x86_64.whl (6.6 MB)\n",
            "\u001b[K     |████████████████████████████████| 6.6 MB 45.5 MB/s \n",
            "\u001b[?25hRequirement already satisfied: numpy>=1.17 in /usr/local/lib/python3.7/dist-packages (from transformers) (1.21.6)\n",
            "Requirement already satisfied: packaging>=20.0 in /usr/local/lib/python3.7/dist-packages (from transformers) (21.3)\n",
            "Requirement already satisfied: tqdm>=4.27 in /usr/local/lib/python3.7/dist-packages (from transformers) (4.64.0)\n",
            "Requirement already satisfied: typing-extensions>=3.7.4.3 in /usr/local/lib/python3.7/dist-packages (from huggingface-hub<1.0,>=0.1.0->transformers) (4.1.1)\n",
            "Requirement already satisfied: pyparsing!=3.0.5,>=2.0.2 in /usr/local/lib/python3.7/dist-packages (from packaging>=20.0->transformers) (3.0.9)\n",
            "Requirement already satisfied: zipp>=0.5 in /usr/local/lib/python3.7/dist-packages (from importlib-metadata->transformers) (3.8.0)\n",
            "Requirement already satisfied: idna<3,>=2.5 in /usr/local/lib/python3.7/dist-packages (from requests->transformers) (2.10)\n",
            "Requirement already satisfied: urllib3!=1.25.0,!=1.25.1,<1.26,>=1.21.1 in /usr/local/lib/python3.7/dist-packages (from requests->transformers) (1.24.3)\n",
            "Requirement already satisfied: certifi>=2017.4.17 in /usr/local/lib/python3.7/dist-packages (from requests->transformers) (2022.6.15)\n",
            "Requirement already satisfied: chardet<4,>=3.0.2 in /usr/local/lib/python3.7/dist-packages (from requests->transformers) (3.0.4)\n",
            "Installing collected packages: pyyaml, tokenizers, huggingface-hub, transformers\n",
            "  Attempting uninstall: pyyaml\n",
            "    Found existing installation: PyYAML 3.13\n",
            "    Uninstalling PyYAML-3.13:\n",
            "      Successfully uninstalled PyYAML-3.13\n",
            "Successfully installed huggingface-hub-0.8.1 pyyaml-6.0 tokenizers-0.12.1 transformers-4.20.1\n"
          ]
        }
      ],
      "source": [
        "!pip install transformers\n",
        "import transformers"
      ]
    },
    {
      "cell_type": "code",
      "execution_count": null,
      "metadata": {
        "colab": {
          "base_uri": "https://localhost:8080/",
          "height": 286,
          "referenced_widgets": [
            "4db6634d6f844ffcb9e8f87c62791b30",
            "1f224389784f431ab0a33fbdc543e7c2",
            "792cd6c766ce443288c0a9de2758ea2c",
            "6a35955558344241a66550c66a9324f2",
            "72d78418d11c4d0094addc2dfb1612a6",
            "45ff986319ae4805aa959a9685341eb1",
            "735f68ef6840419b8b0bae2da70b02db",
            "de5347432e8d4f9a951828cf01a943b9",
            "255c1d3739304491b7f1f2a49000cb1c",
            "616d4a28181548ae87c57fa376db3c06",
            "e725965fa48149f091ef3eaf42696208",
            "5c7c953ea2ed48b1b0f2b3775c092d38",
            "08ed54bed85c4becb630ad8775bfdf94",
            "2f3a28f8870a460d91d79df15c461bea",
            "db2b8b821b054a0390d35e4a3b24318a",
            "6a99e3d668af482094771b1989bab542",
            "e13c008ddc384c309d15e1329ba6caf8",
            "4367e87da03c4564a7e3f4a1d6e1edcb",
            "fbded6bbf1c446a9a29a5ce08f2d5506",
            "77b47785a1c047ef80a0e15ed8a3425d",
            "4eb6714bb4814021987e926d694b5ff3",
            "faa11b887810469f9c6aa15f9598560f",
            "7c9d29d99f4a4e8eb6d5dadd40d46925",
            "7ebeb064b01c4018b27878497ec71cf4",
            "d557d2cb1abd4a4e88b26bb5416d01a8",
            "a943df176d804b9facf1bc2daaf5dbec",
            "ba7a7af365d44b30a7691eecca51c4df",
            "246083aae04345e58d2548ad89054c64",
            "e6154d107fd04ee9b3f30c0433e281ee",
            "4ff041873d2c415ba49bb2f7929f00a0",
            "2d65759e87b84ed68208b6ce31dc92a4",
            "d74baf8bf1554df08218e71cbff998d9",
            "697d8dddb5694ecf881e0925513f2030",
            "3dfdb9be6eca442496e81f09b2c39b09",
            "c4c1d5d1341740e09973078093fe390e",
            "7f4c1349bd9b4c1d8b184a043cfeba87",
            "c63aae31d4724d78b963f5ee88a4b04d",
            "6607609e789f454e8fb678b550067112",
            "71d01484a2eb43828658acebb62084b1",
            "3ba4590acce64b3eace8e93f9d4262c1",
            "2888ff04f6a64af0a44942104bee2e75",
            "65d4973247df4b1d9e600d8988314bb1",
            "9d1c6acd2b324d17873f8e41ca9d3b8e",
            "526e729782dd4e87919002c5c140feea",
            "69f21ed45c69426d9e90802a18c2b998",
            "82c006587f424f63b168e9bf2543f727",
            "35615fbd8c8c4fa88bde935fc8f93046",
            "3f4573cfcc4041d0b392179b6c74def4",
            "e617a6ea26774b429aaae37b04104116",
            "4138758d07eb4b39b3eab3649b7ee988",
            "a3df35b02315454bbbedef99c9675452",
            "45f9f6f686104763aef22bd7e0057e3c",
            "60b65252c4a8437db2a329c8ff97f9d0",
            "f87e9c33c2e44787acead3e5e3f2a91f",
            "d6e7c4627e054bc084023bf20b37dc18"
          ]
        },
        "id": "H50Ms7Rur_2_",
        "outputId": "120f66e8-f1d2-4105-dc1c-55d5440eeeef"
      },
      "outputs": [
        {
          "output_type": "display_data",
          "data": {
            "text/plain": [
              "Downloading:   0%|          | 0.00/29.0 [00:00<?, ?B/s]"
            ],
            "application/vnd.jupyter.widget-view+json": {
              "version_major": 2,
              "version_minor": 0,
              "model_id": "4db6634d6f844ffcb9e8f87c62791b30"
            }
          },
          "metadata": {}
        },
        {
          "output_type": "display_data",
          "data": {
            "text/plain": [
              "Downloading:   0%|          | 0.00/570 [00:00<?, ?B/s]"
            ],
            "application/vnd.jupyter.widget-view+json": {
              "version_major": 2,
              "version_minor": 0,
              "model_id": "5c7c953ea2ed48b1b0f2b3775c092d38"
            }
          },
          "metadata": {}
        },
        {
          "output_type": "display_data",
          "data": {
            "text/plain": [
              "Downloading:   0%|          | 0.00/208k [00:00<?, ?B/s]"
            ],
            "application/vnd.jupyter.widget-view+json": {
              "version_major": 2,
              "version_minor": 0,
              "model_id": "7c9d29d99f4a4e8eb6d5dadd40d46925"
            }
          },
          "metadata": {}
        },
        {
          "output_type": "display_data",
          "data": {
            "text/plain": [
              "Downloading:   0%|          | 0.00/426k [00:00<?, ?B/s]"
            ],
            "application/vnd.jupyter.widget-view+json": {
              "version_major": 2,
              "version_minor": 0,
              "model_id": "3dfdb9be6eca442496e81f09b2c39b09"
            }
          },
          "metadata": {}
        },
        {
          "output_type": "display_data",
          "data": {
            "text/plain": [
              "Downloading:   0%|          | 0.00/502M [00:00<?, ?B/s]"
            ],
            "application/vnd.jupyter.widget-view+json": {
              "version_major": 2,
              "version_minor": 0,
              "model_id": "69f21ed45c69426d9e90802a18c2b998"
            }
          },
          "metadata": {}
        },
        {
          "output_type": "stream",
          "name": "stderr",
          "text": [
            "Some layers from the model checkpoint at bert-base-cased were not used when initializing TFBertModel: ['nsp___cls', 'mlm___cls']\n",
            "- This IS expected if you are initializing TFBertModel from the checkpoint of a model trained on another task or with another architecture (e.g. initializing a BertForSequenceClassification model from a BertForPreTraining model).\n",
            "- This IS NOT expected if you are initializing TFBertModel from the checkpoint of a model that you expect to be exactly identical (initializing a BertForSequenceClassification model from a BertForSequenceClassification model).\n",
            "All the layers of TFBertModel were initialized from the model checkpoint at bert-base-cased.\n",
            "If your task is similar to the task the model of the checkpoint was trained on, you can already use TFBertModel for predictions without further training.\n"
          ]
        }
      ],
      "source": [
        "from transformers import AutoTokenizer,TFBertModel\n",
        "tokenizer = AutoTokenizer.from_pretrained('bert-base-cased')\n",
        "bert = TFBertModel.from_pretrained('bert-base-cased')"
      ]
    },
    {
      "cell_type": "code",
      "execution_count": null,
      "metadata": {
        "id": "EeDU8HG9sEgu"
      },
      "outputs": [],
      "source": [
        "# Tokenize the input (takes some time) \n",
        "# here tokenizer using from bert-base-cased\n",
        "x_train = tokenizer(\n",
        "    text=df_train.iloc[:,0].tolist(),\n",
        "    add_special_tokens=True,\n",
        "    max_length=45,\n",
        "    truncation=True,\n",
        "    padding=True, \n",
        "    return_tensors='tf',\n",
        "    return_token_type_ids = False,\n",
        "    return_attention_mask = True,\n",
        "    verbose = True)"
      ]
    },
    {
      "cell_type": "code",
      "execution_count": null,
      "metadata": {
        "id": "QBLd6z7psWXs"
      },
      "outputs": [],
      "source": [
        "input_ids = x_train['input_ids']\n",
        "attention_mask = x_train['attention_mask']"
      ]
    },
    {
      "cell_type": "code",
      "execution_count": null,
      "metadata": {
        "id": "flTaHrbRsWwD"
      },
      "outputs": [],
      "source": [
        "import tensorflow as tf\n",
        "from tensorflow.keras.optimizers import Adam\n",
        "from tensorflow.keras.callbacks import EarlyStopping\n",
        "from tensorflow.keras.initializers import TruncatedNormal\n",
        "from tensorflow.keras.losses import CategoricalCrossentropy\n",
        "from tensorflow.keras.metrics import CategoricalAccuracy\n",
        "from tensorflow.keras.utils import to_categorical\n",
        "from tensorflow.keras.layers import Input, Dense"
      ]
    },
    {
      "cell_type": "code",
      "execution_count": null,
      "metadata": {
        "id": "M5O5Q1lDswta"
      },
      "outputs": [],
      "source": [
        "max_len = 45\n",
        "input_ids = Input(shape=(max_len,), dtype=tf.int32, name=\"input_ids\")\n",
        "input_mask = Input(shape=(max_len,), dtype=tf.int32, name=\"attention_mask\")\n",
        "embeddings = bert(input_ids,attention_mask = input_mask)[0] \n",
        "out = tf.keras.layers.GlobalMaxPool1D()(embeddings)\n",
        "out = Dense(128, activation='relu')(out)\n",
        "out = tf.keras.layers.Dropout(0.1)(out)\n",
        "out = Dense(32,activation = 'relu')(out)\n",
        "y = Dense(9,activation = 'sigmoid')(out)\n",
        "model = tf.keras.Model(inputs=[input_ids, input_mask], outputs=y)\n",
        "model.layers[2].trainable = True"
      ]
    },
    {
      "cell_type": "code",
      "execution_count": null,
      "metadata": {
        "id": "T2VnZ4LHs11o"
      },
      "outputs": [],
      "source": [
        "optimizer = Adam(\n",
        "    learning_rate=5e-05, # this learning rate is for bert model , taken from huggingface website \n",
        "    epsilon=1e-08,\n",
        "    decay=0.01,\n",
        "    clipnorm=1.0)\n",
        "# Set loss and metrics\n",
        "loss =CategoricalCrossentropy(from_logits = True)\n",
        "metric = CategoricalAccuracy('balanced_accuracy'),\n",
        "# Compile the model\n",
        "model.compile(\n",
        "    optimizer = optimizer,\n",
        "    loss = loss, \n",
        "    metrics = metric)"
      ]
    },
    {
      "cell_type": "code",
      "execution_count": null,
      "metadata": {
        "id": "MnFAZJKxs4i_",
        "colab": {
          "base_uri": "https://localhost:8080/"
        },
        "outputId": "504d2a70-b575-438a-c3b8-7793c2294bc9"
      },
      "outputs": [
        {
          "output_type": "stream",
          "name": "stdout",
          "text": [
            "Epoch 1/20\n"
          ]
        },
        {
          "output_type": "stream",
          "name": "stderr",
          "text": [
            "/usr/local/lib/python3.7/dist-packages/tensorflow/python/util/dispatch.py:1082: UserWarning: \"`categorical_crossentropy` received `from_logits=True`, but the `output` argument was produced by a sigmoid or softmax activation and thus does not represent logits. Was this intended?\"\n",
            "  return dispatch_target(*args, **kwargs)\n"
          ]
        },
        {
          "output_type": "stream",
          "name": "stdout",
          "text": [
            "WARNING:tensorflow:Gradients do not exist for variables ['tf_bert_model/bert/pooler/dense/kernel:0', 'tf_bert_model/bert/pooler/dense/bias:0'] when minimizing the loss. If you're using `model.compile()`, did you forget to provide a `loss`argument?\n",
            "WARNING:tensorflow:Gradients do not exist for variables ['tf_bert_model/bert/pooler/dense/kernel:0', 'tf_bert_model/bert/pooler/dense/bias:0'] when minimizing the loss. If you're using `model.compile()`, did you forget to provide a `loss`argument?\n",
            "15/15 [==============================] - 39s 545ms/step - loss: 1.8408 - balanced_accuracy: 0.4506 - val_loss: 2.6828 - val_balanced_accuracy: 0.0000e+00\n",
            "Epoch 2/20\n",
            "15/15 [==============================] - 5s 348ms/step - loss: 1.4406 - balanced_accuracy: 0.5361 - val_loss: 2.5107 - val_balanced_accuracy: 0.0606\n",
            "Epoch 3/20\n",
            "15/15 [==============================] - 5s 350ms/step - loss: 1.0654 - balanced_accuracy: 0.6673 - val_loss: 1.7551 - val_balanced_accuracy: 0.4015\n",
            "Epoch 4/20\n",
            "15/15 [==============================] - 5s 352ms/step - loss: 0.6613 - balanced_accuracy: 0.8156 - val_loss: 1.6038 - val_balanced_accuracy: 0.5076\n",
            "Epoch 5/20\n",
            "15/15 [==============================] - 5s 354ms/step - loss: 0.3745 - balanced_accuracy: 0.8992 - val_loss: 1.5033 - val_balanced_accuracy: 0.6288\n",
            "Epoch 6/20\n",
            "15/15 [==============================] - 5s 354ms/step - loss: 0.2263 - balanced_accuracy: 0.9430 - val_loss: 1.0256 - val_balanced_accuracy: 0.7576\n",
            "Epoch 7/20\n",
            "15/15 [==============================] - 5s 357ms/step - loss: 0.1696 - balanced_accuracy: 0.9582 - val_loss: 1.0594 - val_balanced_accuracy: 0.7879\n",
            "Epoch 8/20\n",
            "15/15 [==============================] - 5s 358ms/step - loss: 0.1284 - balanced_accuracy: 0.9677 - val_loss: 1.3015 - val_balanced_accuracy: 0.7348\n",
            "Epoch 9/20\n",
            "15/15 [==============================] - 5s 360ms/step - loss: 0.1148 - balanced_accuracy: 0.9696 - val_loss: 1.3421 - val_balanced_accuracy: 0.7576\n",
            "Epoch 10/20\n",
            "15/15 [==============================] - 5s 363ms/step - loss: 0.0826 - balanced_accuracy: 0.9791 - val_loss: 1.5446 - val_balanced_accuracy: 0.7045\n",
            "Epoch 11/20\n",
            "15/15 [==============================] - 5s 364ms/step - loss: 0.0727 - balanced_accuracy: 0.9715 - val_loss: 1.1986 - val_balanced_accuracy: 0.7652\n",
            "Epoch 12/20\n",
            "15/15 [==============================] - 6s 373ms/step - loss: 0.0743 - balanced_accuracy: 0.9772 - val_loss: 1.0746 - val_balanced_accuracy: 0.7727\n",
            "Epoch 13/20\n",
            "15/15 [==============================] - 5s 366ms/step - loss: 0.0561 - balanced_accuracy: 0.9848 - val_loss: 1.4607 - val_balanced_accuracy: 0.7348\n",
            "Epoch 14/20\n",
            "15/15 [==============================] - 6s 369ms/step - loss: 0.0664 - balanced_accuracy: 0.9848 - val_loss: 1.0828 - val_balanced_accuracy: 0.7955\n",
            "Epoch 15/20\n",
            "15/15 [==============================] - 6s 371ms/step - loss: 0.0653 - balanced_accuracy: 0.9734 - val_loss: 1.8643 - val_balanced_accuracy: 0.7045\n",
            "Epoch 16/20\n",
            "15/15 [==============================] - 6s 373ms/step - loss: 0.0412 - balanced_accuracy: 0.9848 - val_loss: 1.1334 - val_balanced_accuracy: 0.7879\n",
            "Epoch 17/20\n",
            "15/15 [==============================] - 6s 377ms/step - loss: 0.0453 - balanced_accuracy: 0.9848 - val_loss: 1.4517 - val_balanced_accuracy: 0.7803\n",
            "Epoch 18/20\n",
            "15/15 [==============================] - 6s 373ms/step - loss: 0.0597 - balanced_accuracy: 0.9829 - val_loss: 1.4482 - val_balanced_accuracy: 0.7803\n",
            "Epoch 19/20\n",
            "15/15 [==============================] - 6s 373ms/step - loss: 0.0464 - balanced_accuracy: 0.9791 - val_loss: 1.1983 - val_balanced_accuracy: 0.8030\n",
            "Epoch 20/20\n",
            "15/15 [==============================] - 6s 370ms/step - loss: 0.0414 - balanced_accuracy: 0.9810 - val_loss: 1.3780 - val_balanced_accuracy: 0.7803\n"
          ]
        }
      ],
      "source": [
        "train_history = model.fit(\n",
        "    x ={'input_ids':x_train['input_ids'],'attention_mask':x_train['attention_mask']} ,\n",
        "    y = y_train,\n",
        "    validation_split = 0.2,\n",
        "  epochs=20,\n",
        "    batch_size=36\n",
        ")"
      ]
    },
    {
      "cell_type": "code",
      "execution_count": null,
      "metadata": {
        "id": "mxuhSOvTtIA3"
      },
      "outputs": [],
      "source": [
        "# texts = input(str('I am having chest pain'))\n",
        "texts = 'I had a bike accident yesterday, my knee is hurting'\n",
        "x_val = tokenizer(\n",
        "    text=texts,\n",
        "    add_special_tokens=True,\n",
        "    max_length=45,\n",
        "    truncation=True,\n",
        "    padding='max_length', \n",
        "    return_tensors='tf',\n",
        "    return_token_type_ids = False,\n",
        "    return_attention_mask = True,\n",
        "    verbose = True) \n",
        "prediction = model.predict({'input_ids':x_val['input_ids'],'attention_mask':x_val['attention_mask']})*100\n",
        "# print(prediction[0].argsort()[::-1])\n",
        "result= {}\n",
        "for i in prediction[0].argsort()[::-1][:3]:\n",
        "  result[target_reverse_word_index[i+1]] = prediction[0][i]\n",
        "\n"
      ]
    },
    {
      "cell_type": "code",
      "execution_count": null,
      "metadata": {
        "colab": {
          "base_uri": "https://localhost:8080/"
        },
        "id": "8VYy5GYFvvfC",
        "outputId": "e1c8e701-0b4e-424b-9395-12717237e4d6"
      },
      "outputs": [
        {
          "output_type": "execute_result",
          "data": {
            "text/plain": [
              "{'cardiologist': 91.30915, 'medicine': 98.86409, 'orthopedic': 99.95426}"
            ]
          },
          "metadata": {},
          "execution_count": 21
        }
      ],
      "source": [
        "result"
      ]
    },
    {
      "cell_type": "code",
      "execution_count": null,
      "metadata": {
        "colab": {
          "base_uri": "https://localhost:8080/"
        },
        "id": "q5WG3Vwk3RBf",
        "outputId": "802f1ceb-9e3e-4863-bbb5-f23dede08cfe"
      },
      "outputs": [
        {
          "output_type": "stream",
          "name": "stdout",
          "text": [
            "orthopedic 99.95426\n",
            "medicine 98.86409\n",
            "cardiologist 91.30915\n"
          ]
        }
      ],
      "source": [
        "# print(prediction[0].argsort()[::-1])\n",
        "for i in prediction[0].argsort()[::-1][:3]:\n",
        "  print(target_reverse_word_index[i+1], prediction[0][i])"
      ]
    },
    {
      "cell_type": "code",
      "execution_count": null,
      "metadata": {
        "colab": {
          "base_uri": "https://localhost:8080/"
        },
        "id": "gmHlhzsN4hDX",
        "outputId": "c2104159-97e4-4468-a5c6-8cdf182f5a25"
      },
      "outputs": [
        {
          "output_type": "execute_result",
          "data": {
            "text/plain": [
              "{1: 'medicine',\n",
              " 2: 'ophthalmologist',\n",
              " 3: 'gynecologist',\n",
              " 4: 'surgery',\n",
              " 5: 'orthopedic',\n",
              " 6: 'cardiologist',\n",
              " 7: 'skin',\n",
              " 8: 'dentist',\n",
              " 9: 'ent'}"
            ]
          },
          "metadata": {},
          "execution_count": 23
        }
      ],
      "source": [
        "target_reverse_word_index"
      ]
    },
    {
      "cell_type": "code",
      "execution_count": null,
      "metadata": {
        "colab": {
          "base_uri": "https://localhost:8080/"
        },
        "id": "-BKBL497maIp",
        "outputId": "099b0b16-eeb4-4410-e939-031ed867fbfa"
      },
      "outputs": [
        {
          "output_type": "stream",
          "name": "stdout",
          "text": [
            "Looking in indexes: https://pypi.org/simple, https://us-python.pkg.dev/colab-wheels/public/simple/\n",
            "Collecting pyngrok==4.1.1\n",
            "  Downloading pyngrok-4.1.1.tar.gz (18 kB)\n",
            "Requirement already satisfied: future in /usr/local/lib/python3.7/dist-packages (from pyngrok==4.1.1) (0.16.0)\n",
            "Requirement already satisfied: PyYAML in /usr/local/lib/python3.7/dist-packages (from pyngrok==4.1.1) (6.0)\n",
            "Building wheels for collected packages: pyngrok\n",
            "  Building wheel for pyngrok (setup.py) ... \u001b[?25l\u001b[?25hdone\n",
            "  Created wheel for pyngrok: filename=pyngrok-4.1.1-py3-none-any.whl size=15983 sha256=15366dae26910f7de4b48b47e0d5dda24e17e82c7738b6890b12cbd12b82647e\n",
            "  Stored in directory: /root/.cache/pip/wheels/b1/d9/12/045a042fee3127dc40ba6f5df2798aa2df38c414bf533ca765\n",
            "Successfully built pyngrok\n",
            "Installing collected packages: pyngrok\n",
            "Successfully installed pyngrok-4.1.1\n",
            "Authtoken saved to configuration file: /root/.ngrok2/ngrok.yml\n"
          ]
        }
      ],
      "source": [
        "!pip install pyngrok==4.1.1\n",
        "!ngrok authtoken '2C37jp7qHi4ElwDfWwlfta4lcON_5Xi2uH6r2f1oo5BwDiA4L'"
      ]
    },
    {
      "cell_type": "code",
      "execution_count": null,
      "metadata": {
        "colab": {
          "base_uri": "https://localhost:8080/"
        },
        "id": "E1XUOx7ks1Ct",
        "outputId": "6380fd7c-1033-4602-add4-bc31a82b977f"
      },
      "outputs": [
        {
          "output_type": "stream",
          "name": "stdout",
          "text": [
            "Looking in indexes: https://pypi.org/simple, https://us-python.pkg.dev/colab-wheels/public/simple/\n",
            "Collecting flask-ngrok\n",
            "  Downloading flask_ngrok-0.0.25-py3-none-any.whl (3.1 kB)\n",
            "Requirement already satisfied: Flask>=0.8 in /usr/local/lib/python3.7/dist-packages (from flask-ngrok) (1.1.4)\n",
            "Requirement already satisfied: requests in /usr/local/lib/python3.7/dist-packages (from flask-ngrok) (2.23.0)\n",
            "Requirement already satisfied: Jinja2<3.0,>=2.10.1 in /usr/local/lib/python3.7/dist-packages (from Flask>=0.8->flask-ngrok) (2.11.3)\n",
            "Requirement already satisfied: itsdangerous<2.0,>=0.24 in /usr/local/lib/python3.7/dist-packages (from Flask>=0.8->flask-ngrok) (1.1.0)\n",
            "Requirement already satisfied: Werkzeug<2.0,>=0.15 in /usr/local/lib/python3.7/dist-packages (from Flask>=0.8->flask-ngrok) (1.0.1)\n",
            "Requirement already satisfied: click<8.0,>=5.1 in /usr/local/lib/python3.7/dist-packages (from Flask>=0.8->flask-ngrok) (7.1.2)\n",
            "Requirement already satisfied: MarkupSafe>=0.23 in /usr/local/lib/python3.7/dist-packages (from Jinja2<3.0,>=2.10.1->Flask>=0.8->flask-ngrok) (2.0.1)\n",
            "Requirement already satisfied: chardet<4,>=3.0.2 in /usr/local/lib/python3.7/dist-packages (from requests->flask-ngrok) (3.0.4)\n",
            "Requirement already satisfied: urllib3!=1.25.0,!=1.25.1,<1.26,>=1.21.1 in /usr/local/lib/python3.7/dist-packages (from requests->flask-ngrok) (1.24.3)\n",
            "Requirement already satisfied: certifi>=2017.4.17 in /usr/local/lib/python3.7/dist-packages (from requests->flask-ngrok) (2022.6.15)\n",
            "Requirement already satisfied: idna<3,>=2.5 in /usr/local/lib/python3.7/dist-packages (from requests->flask-ngrok) (2.10)\n",
            "Installing collected packages: flask-ngrok\n",
            "Successfully installed flask-ngrok-0.0.25\n",
            "Looking in indexes: https://pypi.org/simple, https://us-python.pkg.dev/colab-wheels/public/simple/\n",
            "Collecting flask==0.12.2\n",
            "  Downloading Flask-0.12.2-py2.py3-none-any.whl (83 kB)\n",
            "\u001b[K     |████████████████████████████████| 83 kB 1.5 MB/s \n",
            "\u001b[?25hRequirement already satisfied: click>=2.0 in /usr/local/lib/python3.7/dist-packages (from flask==0.12.2) (7.1.2)\n",
            "Requirement already satisfied: Werkzeug>=0.7 in /usr/local/lib/python3.7/dist-packages (from flask==0.12.2) (1.0.1)\n",
            "Requirement already satisfied: Jinja2>=2.4 in /usr/local/lib/python3.7/dist-packages (from flask==0.12.2) (2.11.3)\n",
            "Requirement already satisfied: itsdangerous>=0.21 in /usr/local/lib/python3.7/dist-packages (from flask==0.12.2) (1.1.0)\n",
            "Requirement already satisfied: MarkupSafe>=0.23 in /usr/local/lib/python3.7/dist-packages (from Jinja2>=2.4->flask==0.12.2) (2.0.1)\n",
            "Installing collected packages: flask\n",
            "  Attempting uninstall: flask\n",
            "    Found existing installation: Flask 1.1.4\n",
            "    Uninstalling Flask-1.1.4:\n",
            "      Successfully uninstalled Flask-1.1.4\n",
            "Successfully installed flask-0.12.2\n"
          ]
        }
      ],
      "source": [
        "!pip install flask-ngrok\n",
        "!pip install flask==0.12.2  # Newer versions of flask don't work in Colab\n",
        "                            # See https://github.com/plotly/dash/issues/257"
      ]
    },
    {
      "cell_type": "markdown",
      "metadata": {
        "id": "stMW1CZne6GP"
      },
      "source": [
        "**Markov Chain Prediction Code**"
      ]
    },
    {
      "cell_type": "code",
      "execution_count": null,
      "metadata": {
        "colab": {
          "base_uri": "https://localhost:8080/"
        },
        "id": "yHFgelJnfCAD",
        "outputId": "b3174e67-3d47-4c46-c13d-38ab78314c9d"
      },
      "outputs": [
        {
          "output_type": "stream",
          "name": "stdout",
          "text": [
            "Cloning into 'predict_next_diagnosis_using_markovchain'...\n",
            "remote: Enumerating objects: 22, done.\u001b[K\n",
            "remote: Counting objects: 100% (22/22), done.\u001b[K\n",
            "remote: Compressing objects: 100% (16/16), done.\u001b[K\n",
            "remote: Total 22 (delta 5), reused 13 (delta 2), pack-reused 0\u001b[K\n",
            "Unpacking objects: 100% (22/22), done.\n"
          ]
        }
      ],
      "source": [
        "!git clone https://github.com/gulraizchoudhary/predict_next_diagnosis_using_markovchain.git\n",
        "\n",
        "def confusionMatrix(total_classes, gt, predicted):\n",
        "    total = total_classes-len(gt)\n",
        "    TP = len(list(set(predicted).intersection(set(gt))))\n",
        "    FP = len(predicted)-TP\n",
        "    FN = len(gt)-TP\n",
        "    TN = total_classes-(TP+FP+FN)\n",
        "    Accuracy = (TP+TN)/total\n",
        "    MissclassificationRate = (FP+FN)/total\n",
        "    TPR = TP/(FN+TP) #Sensitivity, recall\n",
        "    FPR = FP/(TN+FP) \n",
        "    TNR= TN/(TN+FP) #Specificity, selectivity\n",
        "    FNR= FN/(FN+TP) #miss rate\n",
        "    Precision=0\n",
        "    Fscore =0\n",
        "    LikelihoodRatio=0\n",
        "    \n",
        "    if (FP+ TP) !=0:\n",
        "        Precision = TP/(FP+ TP)\n",
        "    \n",
        "    AUC = (TP+(0.5*FP))/len(predicted)\n",
        "    \n",
        "    if (Precision+TPR) !=0:\n",
        "        Fscore = 2*((Precision*TPR)/(Precision+TPR))\n",
        "    \n",
        "    if (1-TPR) !=0:\n",
        "        LikelihoodRatio = Precision/(1-TPR)\n",
        "    \n",
        "    return TP, FP, FN, TN, Accuracy, MissclassificationRate, TPR, FPR, FNR, TNR, Precision, AUC, Fscore, LikelihoodRatio\n",
        "\n",
        "\n",
        "def getCM(predicted, t_classes):\n",
        "    cm =[]\n",
        "    for list in predicted:\n",
        "        if len(list[1])>0:\n",
        "            cm.append(confusionMatrix(t_classes, list[0], list[1]))\n",
        "    \n",
        "    return cm\n",
        "\n",
        "def printStat(cm):\n",
        "    confusion_map=[list(i) for i in zip(*cm)]\n",
        "    onfusion_mean =[np.mean(k) for k in confusion_map]\n",
        "    onfusion_std =[np.std(k) for k in confusion_map]\n",
        "    print(\"TP: \"+str(onfusion_mean[0]))\n",
        "    print(\"FP: \"+str(onfusion_mean[1]))\n",
        "    print(\"FN: \"+str(onfusion_mean[2]))\n",
        "    print(\"TN: \"+str(onfusion_mean[3]))\n",
        "    print(\"Accuracy: \"+str(onfusion_mean[4]))\n",
        "    print(\"MissclassificationRate: \"+str(onfusion_mean[5]))\n",
        "    print(\"TPR: \"+str(onfusion_mean[6]))\n",
        "    print(\"FPR: \"+str(onfusion_mean[7]))\n",
        "    print(\"FNR: \"+str(onfusion_mean[8]))\n",
        "    print(\"TNR: \"+str(onfusion_mean[9]))\n",
        "    print(\"Precision: \"+str(onfusion_mean[10]))\n",
        "    print(\"AUC: \"+str(onfusion_mean[11]))\n",
        "    print(\"AUC STD: \"+str(onfusion_std[11]))\n",
        "    print(\"Fscore: \"+str(onfusion_mean[12]))\n",
        "    print(\"LikelihoodRatio: \"+str(onfusion_mean[13]))\n",
        "    \n",
        "\n",
        "import numpy as np\n",
        "from sklearn.model_selection import train_test_split\n",
        "\n",
        "\n",
        "# Markov chain stored as adjacency list.\n",
        "markov = {}\n",
        "\n",
        "def update_markov(current : str, next : str) -> None:\n",
        "    \"\"\"Add item to the markov.\n",
        "    Args:\n",
        "        current (three digit ICD-10 codes is str): Input ICD-10 code.\n",
        "        next (ICD-10 code as str): Output ICD-10 code.\n",
        "    \"\"\"\n",
        "\n",
        "    # Add the input ICD-10 code to the lexicon if it in there yet.\n",
        "    if current not in markov:\n",
        "        markov.update({current: {next: 1} })\n",
        "        return\n",
        "\n",
        "    # Retrieve the probabilties of the input ICD-10 code.\n",
        "    options = markov[current]\n",
        "\n",
        "    # Check if the output ICD-10 codes that is in the propability list.\n",
        "    if next not in options:\n",
        "        options.update({next : 1})\n",
        "    else:\n",
        "        options.update({next : options[next] + 1})\n",
        "\n",
        "    # Update the markov\n",
        "    markov[current] = options\n",
        "\n",
        "def normalize() -> None:\n",
        "    \"\"\"normalize the frequencies to a 0-1 float\"\"\"\n",
        "    for code, transition in markov.items():\n",
        "        transition = dict((key, value / sum(transition.values())) for key, value in transition.items())\n",
        "        markov[code] = transition\n",
        "    \n",
        "\n",
        "def predict(code : str) -> str:\n",
        "    \"\"\"Attempt to predict the next ICD-10 code in the markov chain.\n",
        "    Args:\n",
        "        ICD-10 code (str): Last ICD-10 known code from patient history.\n",
        "    Returns:\n",
        "        str: Next ICD-10 code.\n",
        "        None: current ICD-10 is not in the markov chain.\n",
        "    \"\"\"\n",
        "    if code not in markov:\n",
        "        return None\n",
        "\n",
        "    options = markov[code]\n",
        "    print(\"markov options\")\n",
        "    print(options)\n",
        "\n",
        "    # dict.keys()[-1]\n",
        "    p = dict(sorted(options.items(), key=lambda item: item[1]))\n",
        "    print(p)\n",
        "    print(list(p)[-1])\n",
        "\n",
        "    return list(p)[-1]\n",
        "    \n",
        "\n",
        "def train_markov(train):\n",
        "    \"\"\"update the markov chain using train\"\"\"\n",
        "    \n",
        "    for line in train:\n",
        "        # Update markov chain.\n",
        "        code = line.strip().split(' ')\n",
        "        for i in range(len(code) - 1):\n",
        "            update_markov(code[i], code[i+1])\n",
        "\n",
        "def predict_next(test):\n",
        "    \"\"\"Predict the next ICD-10 code from a given\"\"\"\n",
        "    pred = []\n",
        "    gt = []\n",
        "    for line in test:\n",
        "        codes = line.strip().split(' ')\n",
        "        print(codes)\n",
        "        #Divide the sequence into two equals portion as a training and testing\n",
        "        t_head, t_tail = codes[:len(codes)//2], codes[len(codes)//2:]\n",
        "        print(t_head[-1])\n",
        "        print(\"tail\")\n",
        "        print(t_tail)\n",
        "    \n",
        "        # Select the last ICD-10 code from the training sequence of the given set.\n",
        "        p_code = predict(t_head[-1])\n",
        "        print(\"p_code \".format(p_code))\n",
        "        \n",
        "        #book keeping the total number of the classes\n",
        "        gt.append(t_tail[0])\n",
        "        gt.append(p_code)\n",
        "        \n",
        "        pred.append((str(p_code),t_head[-1]))\n",
        "        \n",
        "    \n",
        "    return pred, len(set(gt))\n",
        "\n",
        "\n",
        "def load_dataset():\n",
        "    \"\"\"1- Load the dataset from the file\n",
        "       2- Split dataset into train and test\n",
        "    \"\"\"\n",
        "    data = tuple(open(\"./predict_next_diagnosis_using_markovchain/dataset.txt\", 'r'))\n",
        "    \n",
        "    #split data into training and testing    \n",
        "    train, test = train_test_split(data,test_size=0.2)\n",
        "    \n",
        "    return train, test\n",
        "\n",
        "\n",
        "#Split data into train and test\n",
        "train, test = load_dataset()\n",
        "\n",
        "#update the markov model\n",
        "train_markov(train)\n",
        "\n",
        "\n",
        "#Normalize the markov model\n",
        "normalize()\n",
        "\n"
      ]
    },
    {
      "cell_type": "code",
      "execution_count": null,
      "metadata": {
        "colab": {
          "base_uri": "https://localhost:8080/"
        },
        "id": "edgMn7tgfRHW",
        "outputId": "ecf436fa-3f7d-425d-9723-a2435a33d876"
      },
      "outputs": [
        {
          "output_type": "stream",
          "name": "stdout",
          "text": [
            "Looking in indexes: https://pypi.org/simple, https://us-python.pkg.dev/colab-wheels/public/simple/\n",
            "Collecting icd10-cm\n",
            "  Downloading icd10_cm-0.0.4-py2.py3-none-any.whl (675 kB)\n",
            "\u001b[K     |████████████████████████████████| 675 kB 7.0 MB/s \n",
            "\u001b[?25hInstalling collected packages: icd10-cm\n",
            "Successfully installed icd10-cm-0.0.4\n"
          ]
        }
      ],
      "source": [
        "!pip install icd10-cm\n",
        "data = tuple(open(\"./predict_next_diagnosis_using_markovchain/dataset.txt\", 'r'))"
      ]
    },
    {
      "cell_type": "code",
      "execution_count": null,
      "metadata": {
        "colab": {
          "base_uri": "https://localhost:8080/"
        },
        "id": "g6Zfhaitfacj",
        "outputId": "a6e7a078-e1cf-4f45-ab0b-3be907ee7d09"
      },
      "outputs": [
        {
          "output_type": "stream",
          "name": "stdout",
          "text": [
            "Error in T08\n",
            "Error in T90\n",
            "Error in F00\n",
            "['S30: Superficial injury of abdomen, lower back, pelvis and external genitals', 'D65: Disseminated intravascular coagulation [defibrination syndrome]', 'O10: Pre-existing hypertension complicating pregnancy, childbirth and the puerperium', 'O30: Multiple gestation', 'M60: Myositis', 'O20: Hemorrhage in early pregnancy', 'I26: Pulmonary embolism', 'E10: Type 1 diabetes mellitus', 'C45: Mesothelioma', 'F40: Phobic anxiety disorders', 'M86: Osteomyelitis', 'E65: Localized adiposity', 'T20: Burn and corrosion of head, face, and neck', 'M30: Polyarteritis nodosa and related conditions', 'M65: Synovitis and tenosynovitis', 'A00: Cholera', 'C81: Hodgkin lymphoma', 'B85: Pediculosis and phthiriasis', 'C76: Malignant neoplasm of other and ill-defined sites', 'C60: Malignant neoplasm of penis', 'G60: Hereditary and idiopathic neuropathy', 'H55: Nystagmus and other irregular eye movements', 'J90: Pleural effusion, not elsewhere classified', 'M05: Rheumatoid arthritis with rheumatoid factor', 'M15: Polyosteoarthritis', 'A65: Nonvenereal syphilis', 'J95: Intraoperative and postprocedural complications and disorders of respiratory system, not elsewhere classified', 'I20: Angina pectoris', 'S50: Superficial injury of elbow and forearm', 'T66: Radiation sickness, unspecified', 'N60: Benign mammary dysplasia', 'B00: Herpesviral [herpes simplex] infections', 'Q80: Congenital ichthyosis', 'H90: Conductive and sensorineural hearing loss', 'S10: Superficial injury of neck', 'M91: Juvenile osteochondrosis of hip and pelvis', 'K65: Peritonitis', 'J80: Acute respiratory distress syndrome', 'G90: Disorders of autonomic nervous system', 'L40: Psoriasis', 'G50: Disorders of trigeminal nerve', 'E15: Nondiabetic hypoglycemic coma', 'H43: Disorders of vitreous body', 'M00: Pyogenic arthritis', 'B95: Streptococcus, Staphylococcus, and Enterococcus as the cause of diseases classified elsewhere', 'T79: Certain early complications of trauma, not elsewhere classified', 'J20: Acute bronchitis', 'M70: Soft tissue disorders related to use, overuse and pressure', 'K20: Esophagitis', 'G80: Cerebral palsy', 'H65: Nonsuppurative otitis media', 'B25: Cytomegaloviral disease', 'G70: Myasthenia gravis and other myoneural disorders', 'K90: Intestinal malabsorption', 'K55: Vascular disorders of intestine', \"J60: Coalworker's pneumoconiosis\", 'I95: Hypotension', 'J09: Influenza due to certain identified influenza viruses', 'S80: Superficial injury of knee and lower leg', 'E20: Hypoparathyroidism', 'F10: Alcohol related disorders', 'S90: Superficial injury of ankle, foot and toes', 'K80: Cholelithiasis', 'C40: Malignant neoplasm of bone and articular cartilage of limbs', 'A20: Plague', 'M50: Cervical disc disorders', 'H00: Hordeolum and chalazion', 'K40: Inguinal hernia', 'I60: Nontraumatic subarachnoid hemorrhage', 'C64: Malignant neoplasm of kidney, except renal pelvis', 'T36: Poisoning by, adverse effect of and underdosing of systemic antibiotics', 'N40: Benign prostatic hyperplasia', 'O94: Sequelae of complication of pregnancy, childbirth, and the puerperium', 'F70: Mild intellectual disabilities', 'T15: Foreign body on external eye', 'H15: Disorders of sclera', 'L50: Urticaria', 'G00: Bacterial meningitis, not elsewhere classified', 'I10: Essential (primary) hypertension', 'M20: Acquired deformities of fingers and toes', 'C50: Malignant neoplasm of breast', 'D50: Iron deficiency anemia', 'C15: Malignant neoplasm of esophagus', 'M45: Ankylosing spondylitis', 'S70: Superficial injury of hip and thigh', 'B15: Acute hepatitis A', 'S20: Superficial injury of thorax', 'I05: Rheumatic mitral valve diseases', 'N30: Cystitis', 'F30: Manic episode', 'G40: Epilepsy and recurrent seizures', 'B90: Sequelae of tuberculosis', 'H49: Paralytic strabismus', 'H10: Conjunctivitis', 'K70: Alcoholic liver disease', 'N10: Acute pyelonephritis', 'F50: Eating disorders', 'B65: Schistosomiasis [bilharziasis]', 'L80: Vitiligo', 'N80: Endometriosis', 'H80: Otosclerosis', 'C30: Malignant neoplasm of nasal cavity and middle ear', 'S00: Superficial injury of head', 'D00: Carcinoma in situ of oral cavity, esophagus and stomach', 'H30: Chorioretinal inflammation', 'H40: Glaucoma', 'C00: Malignant neoplasm of lip', 'I80: Phlebitis and thrombophlebitis', \"K50: Crohn's disease [regional enteritis]\", 'D70: Neutropenia', 'L60: Nail disorders', 'D55: Anemia due to enzyme disorders', 'K35: Acute appendicitis', 'L00: Staphylococcal scalded skin syndrome', 'A80: Acute poliomyelitis', 'L55: Sunburn', 'I70: Atherosclerosis', 'H60: Otitis externa', 'N70: Salpingitis and oophoritis', 'F60: Specific personality disorders', 'T51: Toxic effect of alcohol', 'T80: Complications following infusion, transfusion and therapeutic injection', 'B20: Human immunodeficiency virus [HIV] disease', 'J30: Vasomotor and allergic rhinitis', 'L10: Pemphigus', 'M80: Osteoporosis with current pathological fracture', \"A30: Leprosy [Hansen's disease]\", 'F99: Mental disorder, not otherwise specified', 'A92: Other mosquito-borne viral fevers', 'J00: Acute nasopharyngitis [common cold]', 'H53: Visual disturbances', 'H25: Age-related cataract', \"G30: Alzheimer's disease\", 'F20: Schizophrenia', 'F90: Attention-deficit hyperactivity disorders', 'J85: Abscess of lung and mediastinum', 'C43: Malignant melanoma of skin', 'I30: Acute pericarditis', 'D60: Acquired pure red cell aplasia [erythroblastopenia]', 'J40: Bronchitis, not specified as acute or chronic', 'O00: Ectopic pregnancy', 'Q60: Renal agenesis and other reduction defects of kidney', 'E70: Disorders of aromatic amino-acid metabolism', 'C51: Malignant neoplasm of vulva', 'M40: Kyphosis and lordosis', 'A50: Congenital syphilis', 'N20: Calculus of kidney and ureter', 'D80: Immunodeficiency with predominantly antibody defects', 'A15: Respiratory tuberculosis', 'K00: Disorders of tooth development and eruption', 'D37: Neoplasm of uncertain behavior of oral cavity and digestive organs', 'L20: Atopic dermatitis', 'S40: Superficial injury of shoulder and upper arm', 'S60: Superficial injury of wrist, hand and fingers', 'D10: Benign neoplasm of mouth and pharynx', 'E00: Congenital iodine-deficiency syndrome', 'B35: Dermatophytosis', \"G20: Parkinson's disease\", 'N17: Acute kidney failure']\n",
            "<class 'list'>\n"
          ]
        }
      ],
      "source": [
        "import icd10\n",
        "unique_codes = set()\n",
        "for line in data:\n",
        "  for code in line.strip().split(' '):\n",
        "    unique_codes.add(code)\n",
        "\n",
        "icd10_code_list = []\n",
        "for code in unique_codes:\n",
        "  try:\n",
        "    icd10_code_list.append(code + \": \" + icd10.find(code).description)\n",
        "  except:\n",
        "    print('Error in ' + code)\n",
        "\n",
        "print(icd10_code_list)\n",
        "print(type(icd10_code_list))"
      ]
    },
    {
      "cell_type": "markdown",
      "metadata": {
        "id": "kVlUyi1p8iRv"
      },
      "source": [
        "**Firebase APIS**"
      ]
    },
    {
      "cell_type": "code",
      "execution_count": null,
      "metadata": {
        "id": "kKusMod58lMR"
      },
      "outputs": [],
      "source": [
        "import firebase_admin\n",
        "from firebase_admin import credentials\n",
        "from firebase_admin import firestore\n",
        "\n",
        "# Use a service account\n",
        "cred = credentials.Certificate(\"./uhi-hackathon-firebase-adminsdk-rloxw-52f80c9011.json\")\n",
        "firebase_admin.initialize_app(cred)\n",
        "\n",
        "db = firestore.client()"
      ]
    },
    {
      "cell_type": "markdown",
      "metadata": {
        "id": "8mL0uwtrgbiT"
      },
      "source": [
        "**Flask Server**"
      ]
    },
    {
      "cell_type": "code",
      "execution_count": null,
      "metadata": {
        "colab": {
          "base_uri": "https://localhost:8080/"
        },
        "id": "rDz16fSRs-zJ",
        "outputId": "90c89273-9be6-498f-eef1-3e1ae2bafc49"
      },
      "outputs": [
        {
          "output_type": "stream",
          "name": "stderr",
          "text": [
            " * Running on http://127.0.0.1:5000/ (Press CTRL+C to quit)\n"
          ]
        },
        {
          "output_type": "stream",
          "name": "stdout",
          "text": [
            " * Running on http://e1f5-34-83-179-179.ngrok.io\n",
            " * Traffic stats available on http://127.0.0.1:4040\n"
          ]
        }
      ],
      "source": [
        "# flask_ngrok_example.py\n",
        "from flask import Flask, request, jsonify\n",
        "from flask_ngrok import run_with_ngrok\n",
        "import json\n",
        "import random\n",
        "import string\n",
        "import datetime\n",
        "\n",
        "app = Flask(__name__)\n",
        "app.config['JSONIFY_PRETTYPRINT_REGULAR'] = False\n",
        "run_with_ngrok(app)  # Start ngrok when app is run\n",
        "\n",
        "@app.route(\"/predict\")\n",
        "def medical_triage_prediction():\n",
        "    # print(request.args.get(\"text\"))\n",
        "    input_text = request.args.get(\"text\")\n",
        "\n",
        "    print(input_text)\n",
        "\n",
        "    x_val = tokenizer(\n",
        "      text=input_text,\n",
        "      add_special_tokens=True,\n",
        "      max_length=45,\n",
        "      truncation=True,\n",
        "      padding='max_length', \n",
        "      return_tensors='tf',\n",
        "      return_token_type_ids = False,\n",
        "      return_attention_mask = True,\n",
        "      verbose = True) \n",
        "    prediction = model.predict({'input_ids':x_val['input_ids'],'attention_mask':x_val['attention_mask']})*100\n",
        "\n",
        "    result= []\n",
        "\n",
        "    for i in prediction[0].argsort()[::-1][:3]:\n",
        "      result.append(target_reverse_word_index[i+1].capitalize())\n",
        "\n",
        "    print(result)\n",
        "    print(type(result))\n",
        "    # print(jsonify(result))\n",
        "\n",
        "    return jsonify(first=result[0], second=result[1], third=result[2])\n",
        "\n",
        "@app.route(\"/icd10-codes\")\n",
        "def get_icd10_code_list():\n",
        "    input_text = request.args.get(\"text\")\n",
        "\n",
        "\n",
        "    return jsonify(icd10_code_list)\n",
        "\n",
        "@app.route(\"/predict-icd10-codes\")\n",
        "def predict_icd10_code():\n",
        "    input_code = request.args.get(\"text\").split(\":\")[0]\n",
        "    p_code = predict(input_code)\n",
        "    return p_code + \" : \" + icd10.find(p_code).description\n",
        "\n",
        "@app.route(\"/symptoms\")\n",
        "def get_symptoms():\n",
        "\n",
        "    users_ref = db.collection(u'Symptoms')\n",
        "    docs = users_ref.stream()\n",
        "\n",
        "    data = []\n",
        "    for doc in docs:\n",
        "        data.append(doc.to_dict())\n",
        "\n",
        "    return jsonify(data)\n",
        "\n",
        "@app.route(\"/latest-symptoms\")\n",
        "def get_patients_symptoms():\n",
        "    data_in_db = db.collection(u'Patients-Symptoms-Datastore').order_by('timestamp', direction=firestore.Query.DESCENDING).limit(1).stream()\n",
        "    data = []\n",
        "    for b in data_in_db:\n",
        "        data.append(b.to_dict())\n",
        "    return jsonify(data[0]['symptoms'])  \n",
        "\n",
        "@app.route(\"/save-symptoms\", methods=['POST'])\n",
        "def save_patients_symptoms():\n",
        "    input_json = request.get_json(force=True)\n",
        "    symptoms_list = [input_json['symptom']]\n",
        "    symptoms_list.extend(input_json['questions'])\n",
        "    symptoms_dict = {\n",
        "        \"timestamp\":datetime.datetime.now(),\n",
        "        \"symptoms\": symptoms_list\n",
        "    }\n",
        "\n",
        "    db.collection(u'Patients-Symptoms-Datastore').document(''.join(random.choices(string.ascii_uppercase + string.digits, k=100))).set(symptoms_dict)\n",
        "    return \"Success\"\n",
        "\n",
        "                                                    \n",
        "\n",
        "if __name__ == '__main__':\n",
        "    app.run()  # If address is in use, may need to terminate other sessions:\n",
        "               # Runtime > Manage Sessions > Terminate Other Sessions"
      ]
    },
    {
      "cell_type": "markdown",
      "source": [
        "**Code to populate Firebase Symptoms Questions and Answers Database**\n",
        "\n"
      ],
      "metadata": {
        "id": "G1XiSYFrEjQo"
      }
    },
    {
      "cell_type": "code",
      "source": [
        "import json\n",
        "complete_data = json.load(open('./symptom_checker.json'))\n",
        "count = 1\n",
        "for data in complete_data:\n",
        "  # print(data)\n",
        "  db.collection(u'Symptoms').document(str(count)).set(data)\n",
        "  count = count+1\n"
      ],
      "metadata": {
        "id": "YypFgSZ0k7Do"
      },
      "execution_count": null,
      "outputs": []
    },
    {
      "cell_type": "code",
      "source": [
        ""
      ],
      "metadata": {
        "id": "_jPaM8bStYhh"
      },
      "execution_count": null,
      "outputs": []
    },
    {
      "cell_type": "code",
      "source": [
        ""
      ],
      "metadata": {
        "id": "I9PZmj5kGIhI"
      },
      "execution_count": null,
      "outputs": []
    },
    {
      "cell_type": "code",
      "source": [
        ""
      ],
      "metadata": {
        "id": "uKwiL2sXNXHx"
      },
      "execution_count": null,
      "outputs": []
    },
    {
      "cell_type": "code",
      "source": [
        ""
      ],
      "metadata": {
        "id": "-FK0sQIkSvAE"
      },
      "execution_count": null,
      "outputs": []
    },
    {
      "cell_type": "code",
      "source": [
        ""
      ],
      "metadata": {
        "id": "OnWNm0r-W192"
      },
      "execution_count": null,
      "outputs": []
    }
  ],
  "metadata": {
    "accelerator": "GPU",
    "colab": {
      "collapsed_sections": [],
      "name": "Machine Learning Server.ipynb",
      "provenance": []
    },
    "gpuClass": "standard",
    "kernelspec": {
      "display_name": "Python 3",
      "name": "python3"
    },
    "language_info": {
      "name": "python"
    },
    "widgets": {
      "application/vnd.jupyter.widget-state+json": {
        "4db6634d6f844ffcb9e8f87c62791b30": {
          "model_module": "@jupyter-widgets/controls",
          "model_name": "HBoxModel",
          "model_module_version": "1.5.0",
          "state": {
            "_dom_classes": [],
            "_model_module": "@jupyter-widgets/controls",
            "_model_module_version": "1.5.0",
            "_model_name": "HBoxModel",
            "_view_count": null,
            "_view_module": "@jupyter-widgets/controls",
            "_view_module_version": "1.5.0",
            "_view_name": "HBoxView",
            "box_style": "",
            "children": [
              "IPY_MODEL_1f224389784f431ab0a33fbdc543e7c2",
              "IPY_MODEL_792cd6c766ce443288c0a9de2758ea2c",
              "IPY_MODEL_6a35955558344241a66550c66a9324f2"
            ],
            "layout": "IPY_MODEL_72d78418d11c4d0094addc2dfb1612a6"
          }
        },
        "1f224389784f431ab0a33fbdc543e7c2": {
          "model_module": "@jupyter-widgets/controls",
          "model_name": "HTMLModel",
          "model_module_version": "1.5.0",
          "state": {
            "_dom_classes": [],
            "_model_module": "@jupyter-widgets/controls",
            "_model_module_version": "1.5.0",
            "_model_name": "HTMLModel",
            "_view_count": null,
            "_view_module": "@jupyter-widgets/controls",
            "_view_module_version": "1.5.0",
            "_view_name": "HTMLView",
            "description": "",
            "description_tooltip": null,
            "layout": "IPY_MODEL_45ff986319ae4805aa959a9685341eb1",
            "placeholder": "​",
            "style": "IPY_MODEL_735f68ef6840419b8b0bae2da70b02db",
            "value": "Downloading: 100%"
          }
        },
        "792cd6c766ce443288c0a9de2758ea2c": {
          "model_module": "@jupyter-widgets/controls",
          "model_name": "FloatProgressModel",
          "model_module_version": "1.5.0",
          "state": {
            "_dom_classes": [],
            "_model_module": "@jupyter-widgets/controls",
            "_model_module_version": "1.5.0",
            "_model_name": "FloatProgressModel",
            "_view_count": null,
            "_view_module": "@jupyter-widgets/controls",
            "_view_module_version": "1.5.0",
            "_view_name": "ProgressView",
            "bar_style": "success",
            "description": "",
            "description_tooltip": null,
            "layout": "IPY_MODEL_de5347432e8d4f9a951828cf01a943b9",
            "max": 29,
            "min": 0,
            "orientation": "horizontal",
            "style": "IPY_MODEL_255c1d3739304491b7f1f2a49000cb1c",
            "value": 29
          }
        },
        "6a35955558344241a66550c66a9324f2": {
          "model_module": "@jupyter-widgets/controls",
          "model_name": "HTMLModel",
          "model_module_version": "1.5.0",
          "state": {
            "_dom_classes": [],
            "_model_module": "@jupyter-widgets/controls",
            "_model_module_version": "1.5.0",
            "_model_name": "HTMLModel",
            "_view_count": null,
            "_view_module": "@jupyter-widgets/controls",
            "_view_module_version": "1.5.0",
            "_view_name": "HTMLView",
            "description": "",
            "description_tooltip": null,
            "layout": "IPY_MODEL_616d4a28181548ae87c57fa376db3c06",
            "placeholder": "​",
            "style": "IPY_MODEL_e725965fa48149f091ef3eaf42696208",
            "value": " 29.0/29.0 [00:00&lt;00:00, 279B/s]"
          }
        },
        "72d78418d11c4d0094addc2dfb1612a6": {
          "model_module": "@jupyter-widgets/base",
          "model_name": "LayoutModel",
          "model_module_version": "1.2.0",
          "state": {
            "_model_module": "@jupyter-widgets/base",
            "_model_module_version": "1.2.0",
            "_model_name": "LayoutModel",
            "_view_count": null,
            "_view_module": "@jupyter-widgets/base",
            "_view_module_version": "1.2.0",
            "_view_name": "LayoutView",
            "align_content": null,
            "align_items": null,
            "align_self": null,
            "border": null,
            "bottom": null,
            "display": null,
            "flex": null,
            "flex_flow": null,
            "grid_area": null,
            "grid_auto_columns": null,
            "grid_auto_flow": null,
            "grid_auto_rows": null,
            "grid_column": null,
            "grid_gap": null,
            "grid_row": null,
            "grid_template_areas": null,
            "grid_template_columns": null,
            "grid_template_rows": null,
            "height": null,
            "justify_content": null,
            "justify_items": null,
            "left": null,
            "margin": null,
            "max_height": null,
            "max_width": null,
            "min_height": null,
            "min_width": null,
            "object_fit": null,
            "object_position": null,
            "order": null,
            "overflow": null,
            "overflow_x": null,
            "overflow_y": null,
            "padding": null,
            "right": null,
            "top": null,
            "visibility": null,
            "width": null
          }
        },
        "45ff986319ae4805aa959a9685341eb1": {
          "model_module": "@jupyter-widgets/base",
          "model_name": "LayoutModel",
          "model_module_version": "1.2.0",
          "state": {
            "_model_module": "@jupyter-widgets/base",
            "_model_module_version": "1.2.0",
            "_model_name": "LayoutModel",
            "_view_count": null,
            "_view_module": "@jupyter-widgets/base",
            "_view_module_version": "1.2.0",
            "_view_name": "LayoutView",
            "align_content": null,
            "align_items": null,
            "align_self": null,
            "border": null,
            "bottom": null,
            "display": null,
            "flex": null,
            "flex_flow": null,
            "grid_area": null,
            "grid_auto_columns": null,
            "grid_auto_flow": null,
            "grid_auto_rows": null,
            "grid_column": null,
            "grid_gap": null,
            "grid_row": null,
            "grid_template_areas": null,
            "grid_template_columns": null,
            "grid_template_rows": null,
            "height": null,
            "justify_content": null,
            "justify_items": null,
            "left": null,
            "margin": null,
            "max_height": null,
            "max_width": null,
            "min_height": null,
            "min_width": null,
            "object_fit": null,
            "object_position": null,
            "order": null,
            "overflow": null,
            "overflow_x": null,
            "overflow_y": null,
            "padding": null,
            "right": null,
            "top": null,
            "visibility": null,
            "width": null
          }
        },
        "735f68ef6840419b8b0bae2da70b02db": {
          "model_module": "@jupyter-widgets/controls",
          "model_name": "DescriptionStyleModel",
          "model_module_version": "1.5.0",
          "state": {
            "_model_module": "@jupyter-widgets/controls",
            "_model_module_version": "1.5.0",
            "_model_name": "DescriptionStyleModel",
            "_view_count": null,
            "_view_module": "@jupyter-widgets/base",
            "_view_module_version": "1.2.0",
            "_view_name": "StyleView",
            "description_width": ""
          }
        },
        "de5347432e8d4f9a951828cf01a943b9": {
          "model_module": "@jupyter-widgets/base",
          "model_name": "LayoutModel",
          "model_module_version": "1.2.0",
          "state": {
            "_model_module": "@jupyter-widgets/base",
            "_model_module_version": "1.2.0",
            "_model_name": "LayoutModel",
            "_view_count": null,
            "_view_module": "@jupyter-widgets/base",
            "_view_module_version": "1.2.0",
            "_view_name": "LayoutView",
            "align_content": null,
            "align_items": null,
            "align_self": null,
            "border": null,
            "bottom": null,
            "display": null,
            "flex": null,
            "flex_flow": null,
            "grid_area": null,
            "grid_auto_columns": null,
            "grid_auto_flow": null,
            "grid_auto_rows": null,
            "grid_column": null,
            "grid_gap": null,
            "grid_row": null,
            "grid_template_areas": null,
            "grid_template_columns": null,
            "grid_template_rows": null,
            "height": null,
            "justify_content": null,
            "justify_items": null,
            "left": null,
            "margin": null,
            "max_height": null,
            "max_width": null,
            "min_height": null,
            "min_width": null,
            "object_fit": null,
            "object_position": null,
            "order": null,
            "overflow": null,
            "overflow_x": null,
            "overflow_y": null,
            "padding": null,
            "right": null,
            "top": null,
            "visibility": null,
            "width": null
          }
        },
        "255c1d3739304491b7f1f2a49000cb1c": {
          "model_module": "@jupyter-widgets/controls",
          "model_name": "ProgressStyleModel",
          "model_module_version": "1.5.0",
          "state": {
            "_model_module": "@jupyter-widgets/controls",
            "_model_module_version": "1.5.0",
            "_model_name": "ProgressStyleModel",
            "_view_count": null,
            "_view_module": "@jupyter-widgets/base",
            "_view_module_version": "1.2.0",
            "_view_name": "StyleView",
            "bar_color": null,
            "description_width": ""
          }
        },
        "616d4a28181548ae87c57fa376db3c06": {
          "model_module": "@jupyter-widgets/base",
          "model_name": "LayoutModel",
          "model_module_version": "1.2.0",
          "state": {
            "_model_module": "@jupyter-widgets/base",
            "_model_module_version": "1.2.0",
            "_model_name": "LayoutModel",
            "_view_count": null,
            "_view_module": "@jupyter-widgets/base",
            "_view_module_version": "1.2.0",
            "_view_name": "LayoutView",
            "align_content": null,
            "align_items": null,
            "align_self": null,
            "border": null,
            "bottom": null,
            "display": null,
            "flex": null,
            "flex_flow": null,
            "grid_area": null,
            "grid_auto_columns": null,
            "grid_auto_flow": null,
            "grid_auto_rows": null,
            "grid_column": null,
            "grid_gap": null,
            "grid_row": null,
            "grid_template_areas": null,
            "grid_template_columns": null,
            "grid_template_rows": null,
            "height": null,
            "justify_content": null,
            "justify_items": null,
            "left": null,
            "margin": null,
            "max_height": null,
            "max_width": null,
            "min_height": null,
            "min_width": null,
            "object_fit": null,
            "object_position": null,
            "order": null,
            "overflow": null,
            "overflow_x": null,
            "overflow_y": null,
            "padding": null,
            "right": null,
            "top": null,
            "visibility": null,
            "width": null
          }
        },
        "e725965fa48149f091ef3eaf42696208": {
          "model_module": "@jupyter-widgets/controls",
          "model_name": "DescriptionStyleModel",
          "model_module_version": "1.5.0",
          "state": {
            "_model_module": "@jupyter-widgets/controls",
            "_model_module_version": "1.5.0",
            "_model_name": "DescriptionStyleModel",
            "_view_count": null,
            "_view_module": "@jupyter-widgets/base",
            "_view_module_version": "1.2.0",
            "_view_name": "StyleView",
            "description_width": ""
          }
        },
        "5c7c953ea2ed48b1b0f2b3775c092d38": {
          "model_module": "@jupyter-widgets/controls",
          "model_name": "HBoxModel",
          "model_module_version": "1.5.0",
          "state": {
            "_dom_classes": [],
            "_model_module": "@jupyter-widgets/controls",
            "_model_module_version": "1.5.0",
            "_model_name": "HBoxModel",
            "_view_count": null,
            "_view_module": "@jupyter-widgets/controls",
            "_view_module_version": "1.5.0",
            "_view_name": "HBoxView",
            "box_style": "",
            "children": [
              "IPY_MODEL_08ed54bed85c4becb630ad8775bfdf94",
              "IPY_MODEL_2f3a28f8870a460d91d79df15c461bea",
              "IPY_MODEL_db2b8b821b054a0390d35e4a3b24318a"
            ],
            "layout": "IPY_MODEL_6a99e3d668af482094771b1989bab542"
          }
        },
        "08ed54bed85c4becb630ad8775bfdf94": {
          "model_module": "@jupyter-widgets/controls",
          "model_name": "HTMLModel",
          "model_module_version": "1.5.0",
          "state": {
            "_dom_classes": [],
            "_model_module": "@jupyter-widgets/controls",
            "_model_module_version": "1.5.0",
            "_model_name": "HTMLModel",
            "_view_count": null,
            "_view_module": "@jupyter-widgets/controls",
            "_view_module_version": "1.5.0",
            "_view_name": "HTMLView",
            "description": "",
            "description_tooltip": null,
            "layout": "IPY_MODEL_e13c008ddc384c309d15e1329ba6caf8",
            "placeholder": "​",
            "style": "IPY_MODEL_4367e87da03c4564a7e3f4a1d6e1edcb",
            "value": "Downloading: 100%"
          }
        },
        "2f3a28f8870a460d91d79df15c461bea": {
          "model_module": "@jupyter-widgets/controls",
          "model_name": "FloatProgressModel",
          "model_module_version": "1.5.0",
          "state": {
            "_dom_classes": [],
            "_model_module": "@jupyter-widgets/controls",
            "_model_module_version": "1.5.0",
            "_model_name": "FloatProgressModel",
            "_view_count": null,
            "_view_module": "@jupyter-widgets/controls",
            "_view_module_version": "1.5.0",
            "_view_name": "ProgressView",
            "bar_style": "success",
            "description": "",
            "description_tooltip": null,
            "layout": "IPY_MODEL_fbded6bbf1c446a9a29a5ce08f2d5506",
            "max": 570,
            "min": 0,
            "orientation": "horizontal",
            "style": "IPY_MODEL_77b47785a1c047ef80a0e15ed8a3425d",
            "value": 570
          }
        },
        "db2b8b821b054a0390d35e4a3b24318a": {
          "model_module": "@jupyter-widgets/controls",
          "model_name": "HTMLModel",
          "model_module_version": "1.5.0",
          "state": {
            "_dom_classes": [],
            "_model_module": "@jupyter-widgets/controls",
            "_model_module_version": "1.5.0",
            "_model_name": "HTMLModel",
            "_view_count": null,
            "_view_module": "@jupyter-widgets/controls",
            "_view_module_version": "1.5.0",
            "_view_name": "HTMLView",
            "description": "",
            "description_tooltip": null,
            "layout": "IPY_MODEL_4eb6714bb4814021987e926d694b5ff3",
            "placeholder": "​",
            "style": "IPY_MODEL_faa11b887810469f9c6aa15f9598560f",
            "value": " 570/570 [00:00&lt;00:00, 5.07kB/s]"
          }
        },
        "6a99e3d668af482094771b1989bab542": {
          "model_module": "@jupyter-widgets/base",
          "model_name": "LayoutModel",
          "model_module_version": "1.2.0",
          "state": {
            "_model_module": "@jupyter-widgets/base",
            "_model_module_version": "1.2.0",
            "_model_name": "LayoutModel",
            "_view_count": null,
            "_view_module": "@jupyter-widgets/base",
            "_view_module_version": "1.2.0",
            "_view_name": "LayoutView",
            "align_content": null,
            "align_items": null,
            "align_self": null,
            "border": null,
            "bottom": null,
            "display": null,
            "flex": null,
            "flex_flow": null,
            "grid_area": null,
            "grid_auto_columns": null,
            "grid_auto_flow": null,
            "grid_auto_rows": null,
            "grid_column": null,
            "grid_gap": null,
            "grid_row": null,
            "grid_template_areas": null,
            "grid_template_columns": null,
            "grid_template_rows": null,
            "height": null,
            "justify_content": null,
            "justify_items": null,
            "left": null,
            "margin": null,
            "max_height": null,
            "max_width": null,
            "min_height": null,
            "min_width": null,
            "object_fit": null,
            "object_position": null,
            "order": null,
            "overflow": null,
            "overflow_x": null,
            "overflow_y": null,
            "padding": null,
            "right": null,
            "top": null,
            "visibility": null,
            "width": null
          }
        },
        "e13c008ddc384c309d15e1329ba6caf8": {
          "model_module": "@jupyter-widgets/base",
          "model_name": "LayoutModel",
          "model_module_version": "1.2.0",
          "state": {
            "_model_module": "@jupyter-widgets/base",
            "_model_module_version": "1.2.0",
            "_model_name": "LayoutModel",
            "_view_count": null,
            "_view_module": "@jupyter-widgets/base",
            "_view_module_version": "1.2.0",
            "_view_name": "LayoutView",
            "align_content": null,
            "align_items": null,
            "align_self": null,
            "border": null,
            "bottom": null,
            "display": null,
            "flex": null,
            "flex_flow": null,
            "grid_area": null,
            "grid_auto_columns": null,
            "grid_auto_flow": null,
            "grid_auto_rows": null,
            "grid_column": null,
            "grid_gap": null,
            "grid_row": null,
            "grid_template_areas": null,
            "grid_template_columns": null,
            "grid_template_rows": null,
            "height": null,
            "justify_content": null,
            "justify_items": null,
            "left": null,
            "margin": null,
            "max_height": null,
            "max_width": null,
            "min_height": null,
            "min_width": null,
            "object_fit": null,
            "object_position": null,
            "order": null,
            "overflow": null,
            "overflow_x": null,
            "overflow_y": null,
            "padding": null,
            "right": null,
            "top": null,
            "visibility": null,
            "width": null
          }
        },
        "4367e87da03c4564a7e3f4a1d6e1edcb": {
          "model_module": "@jupyter-widgets/controls",
          "model_name": "DescriptionStyleModel",
          "model_module_version": "1.5.0",
          "state": {
            "_model_module": "@jupyter-widgets/controls",
            "_model_module_version": "1.5.0",
            "_model_name": "DescriptionStyleModel",
            "_view_count": null,
            "_view_module": "@jupyter-widgets/base",
            "_view_module_version": "1.2.0",
            "_view_name": "StyleView",
            "description_width": ""
          }
        },
        "fbded6bbf1c446a9a29a5ce08f2d5506": {
          "model_module": "@jupyter-widgets/base",
          "model_name": "LayoutModel",
          "model_module_version": "1.2.0",
          "state": {
            "_model_module": "@jupyter-widgets/base",
            "_model_module_version": "1.2.0",
            "_model_name": "LayoutModel",
            "_view_count": null,
            "_view_module": "@jupyter-widgets/base",
            "_view_module_version": "1.2.0",
            "_view_name": "LayoutView",
            "align_content": null,
            "align_items": null,
            "align_self": null,
            "border": null,
            "bottom": null,
            "display": null,
            "flex": null,
            "flex_flow": null,
            "grid_area": null,
            "grid_auto_columns": null,
            "grid_auto_flow": null,
            "grid_auto_rows": null,
            "grid_column": null,
            "grid_gap": null,
            "grid_row": null,
            "grid_template_areas": null,
            "grid_template_columns": null,
            "grid_template_rows": null,
            "height": null,
            "justify_content": null,
            "justify_items": null,
            "left": null,
            "margin": null,
            "max_height": null,
            "max_width": null,
            "min_height": null,
            "min_width": null,
            "object_fit": null,
            "object_position": null,
            "order": null,
            "overflow": null,
            "overflow_x": null,
            "overflow_y": null,
            "padding": null,
            "right": null,
            "top": null,
            "visibility": null,
            "width": null
          }
        },
        "77b47785a1c047ef80a0e15ed8a3425d": {
          "model_module": "@jupyter-widgets/controls",
          "model_name": "ProgressStyleModel",
          "model_module_version": "1.5.0",
          "state": {
            "_model_module": "@jupyter-widgets/controls",
            "_model_module_version": "1.5.0",
            "_model_name": "ProgressStyleModel",
            "_view_count": null,
            "_view_module": "@jupyter-widgets/base",
            "_view_module_version": "1.2.0",
            "_view_name": "StyleView",
            "bar_color": null,
            "description_width": ""
          }
        },
        "4eb6714bb4814021987e926d694b5ff3": {
          "model_module": "@jupyter-widgets/base",
          "model_name": "LayoutModel",
          "model_module_version": "1.2.0",
          "state": {
            "_model_module": "@jupyter-widgets/base",
            "_model_module_version": "1.2.0",
            "_model_name": "LayoutModel",
            "_view_count": null,
            "_view_module": "@jupyter-widgets/base",
            "_view_module_version": "1.2.0",
            "_view_name": "LayoutView",
            "align_content": null,
            "align_items": null,
            "align_self": null,
            "border": null,
            "bottom": null,
            "display": null,
            "flex": null,
            "flex_flow": null,
            "grid_area": null,
            "grid_auto_columns": null,
            "grid_auto_flow": null,
            "grid_auto_rows": null,
            "grid_column": null,
            "grid_gap": null,
            "grid_row": null,
            "grid_template_areas": null,
            "grid_template_columns": null,
            "grid_template_rows": null,
            "height": null,
            "justify_content": null,
            "justify_items": null,
            "left": null,
            "margin": null,
            "max_height": null,
            "max_width": null,
            "min_height": null,
            "min_width": null,
            "object_fit": null,
            "object_position": null,
            "order": null,
            "overflow": null,
            "overflow_x": null,
            "overflow_y": null,
            "padding": null,
            "right": null,
            "top": null,
            "visibility": null,
            "width": null
          }
        },
        "faa11b887810469f9c6aa15f9598560f": {
          "model_module": "@jupyter-widgets/controls",
          "model_name": "DescriptionStyleModel",
          "model_module_version": "1.5.0",
          "state": {
            "_model_module": "@jupyter-widgets/controls",
            "_model_module_version": "1.5.0",
            "_model_name": "DescriptionStyleModel",
            "_view_count": null,
            "_view_module": "@jupyter-widgets/base",
            "_view_module_version": "1.2.0",
            "_view_name": "StyleView",
            "description_width": ""
          }
        },
        "7c9d29d99f4a4e8eb6d5dadd40d46925": {
          "model_module": "@jupyter-widgets/controls",
          "model_name": "HBoxModel",
          "model_module_version": "1.5.0",
          "state": {
            "_dom_classes": [],
            "_model_module": "@jupyter-widgets/controls",
            "_model_module_version": "1.5.0",
            "_model_name": "HBoxModel",
            "_view_count": null,
            "_view_module": "@jupyter-widgets/controls",
            "_view_module_version": "1.5.0",
            "_view_name": "HBoxView",
            "box_style": "",
            "children": [
              "IPY_MODEL_7ebeb064b01c4018b27878497ec71cf4",
              "IPY_MODEL_d557d2cb1abd4a4e88b26bb5416d01a8",
              "IPY_MODEL_a943df176d804b9facf1bc2daaf5dbec"
            ],
            "layout": "IPY_MODEL_ba7a7af365d44b30a7691eecca51c4df"
          }
        },
        "7ebeb064b01c4018b27878497ec71cf4": {
          "model_module": "@jupyter-widgets/controls",
          "model_name": "HTMLModel",
          "model_module_version": "1.5.0",
          "state": {
            "_dom_classes": [],
            "_model_module": "@jupyter-widgets/controls",
            "_model_module_version": "1.5.0",
            "_model_name": "HTMLModel",
            "_view_count": null,
            "_view_module": "@jupyter-widgets/controls",
            "_view_module_version": "1.5.0",
            "_view_name": "HTMLView",
            "description": "",
            "description_tooltip": null,
            "layout": "IPY_MODEL_246083aae04345e58d2548ad89054c64",
            "placeholder": "​",
            "style": "IPY_MODEL_e6154d107fd04ee9b3f30c0433e281ee",
            "value": "Downloading: 100%"
          }
        },
        "d557d2cb1abd4a4e88b26bb5416d01a8": {
          "model_module": "@jupyter-widgets/controls",
          "model_name": "FloatProgressModel",
          "model_module_version": "1.5.0",
          "state": {
            "_dom_classes": [],
            "_model_module": "@jupyter-widgets/controls",
            "_model_module_version": "1.5.0",
            "_model_name": "FloatProgressModel",
            "_view_count": null,
            "_view_module": "@jupyter-widgets/controls",
            "_view_module_version": "1.5.0",
            "_view_name": "ProgressView",
            "bar_style": "success",
            "description": "",
            "description_tooltip": null,
            "layout": "IPY_MODEL_4ff041873d2c415ba49bb2f7929f00a0",
            "max": 213450,
            "min": 0,
            "orientation": "horizontal",
            "style": "IPY_MODEL_2d65759e87b84ed68208b6ce31dc92a4",
            "value": 213450
          }
        },
        "a943df176d804b9facf1bc2daaf5dbec": {
          "model_module": "@jupyter-widgets/controls",
          "model_name": "HTMLModel",
          "model_module_version": "1.5.0",
          "state": {
            "_dom_classes": [],
            "_model_module": "@jupyter-widgets/controls",
            "_model_module_version": "1.5.0",
            "_model_name": "HTMLModel",
            "_view_count": null,
            "_view_module": "@jupyter-widgets/controls",
            "_view_module_version": "1.5.0",
            "_view_name": "HTMLView",
            "description": "",
            "description_tooltip": null,
            "layout": "IPY_MODEL_d74baf8bf1554df08218e71cbff998d9",
            "placeholder": "​",
            "style": "IPY_MODEL_697d8dddb5694ecf881e0925513f2030",
            "value": " 208k/208k [00:00&lt;00:00, 726kB/s]"
          }
        },
        "ba7a7af365d44b30a7691eecca51c4df": {
          "model_module": "@jupyter-widgets/base",
          "model_name": "LayoutModel",
          "model_module_version": "1.2.0",
          "state": {
            "_model_module": "@jupyter-widgets/base",
            "_model_module_version": "1.2.0",
            "_model_name": "LayoutModel",
            "_view_count": null,
            "_view_module": "@jupyter-widgets/base",
            "_view_module_version": "1.2.0",
            "_view_name": "LayoutView",
            "align_content": null,
            "align_items": null,
            "align_self": null,
            "border": null,
            "bottom": null,
            "display": null,
            "flex": null,
            "flex_flow": null,
            "grid_area": null,
            "grid_auto_columns": null,
            "grid_auto_flow": null,
            "grid_auto_rows": null,
            "grid_column": null,
            "grid_gap": null,
            "grid_row": null,
            "grid_template_areas": null,
            "grid_template_columns": null,
            "grid_template_rows": null,
            "height": null,
            "justify_content": null,
            "justify_items": null,
            "left": null,
            "margin": null,
            "max_height": null,
            "max_width": null,
            "min_height": null,
            "min_width": null,
            "object_fit": null,
            "object_position": null,
            "order": null,
            "overflow": null,
            "overflow_x": null,
            "overflow_y": null,
            "padding": null,
            "right": null,
            "top": null,
            "visibility": null,
            "width": null
          }
        },
        "246083aae04345e58d2548ad89054c64": {
          "model_module": "@jupyter-widgets/base",
          "model_name": "LayoutModel",
          "model_module_version": "1.2.0",
          "state": {
            "_model_module": "@jupyter-widgets/base",
            "_model_module_version": "1.2.0",
            "_model_name": "LayoutModel",
            "_view_count": null,
            "_view_module": "@jupyter-widgets/base",
            "_view_module_version": "1.2.0",
            "_view_name": "LayoutView",
            "align_content": null,
            "align_items": null,
            "align_self": null,
            "border": null,
            "bottom": null,
            "display": null,
            "flex": null,
            "flex_flow": null,
            "grid_area": null,
            "grid_auto_columns": null,
            "grid_auto_flow": null,
            "grid_auto_rows": null,
            "grid_column": null,
            "grid_gap": null,
            "grid_row": null,
            "grid_template_areas": null,
            "grid_template_columns": null,
            "grid_template_rows": null,
            "height": null,
            "justify_content": null,
            "justify_items": null,
            "left": null,
            "margin": null,
            "max_height": null,
            "max_width": null,
            "min_height": null,
            "min_width": null,
            "object_fit": null,
            "object_position": null,
            "order": null,
            "overflow": null,
            "overflow_x": null,
            "overflow_y": null,
            "padding": null,
            "right": null,
            "top": null,
            "visibility": null,
            "width": null
          }
        },
        "e6154d107fd04ee9b3f30c0433e281ee": {
          "model_module": "@jupyter-widgets/controls",
          "model_name": "DescriptionStyleModel",
          "model_module_version": "1.5.0",
          "state": {
            "_model_module": "@jupyter-widgets/controls",
            "_model_module_version": "1.5.0",
            "_model_name": "DescriptionStyleModel",
            "_view_count": null,
            "_view_module": "@jupyter-widgets/base",
            "_view_module_version": "1.2.0",
            "_view_name": "StyleView",
            "description_width": ""
          }
        },
        "4ff041873d2c415ba49bb2f7929f00a0": {
          "model_module": "@jupyter-widgets/base",
          "model_name": "LayoutModel",
          "model_module_version": "1.2.0",
          "state": {
            "_model_module": "@jupyter-widgets/base",
            "_model_module_version": "1.2.0",
            "_model_name": "LayoutModel",
            "_view_count": null,
            "_view_module": "@jupyter-widgets/base",
            "_view_module_version": "1.2.0",
            "_view_name": "LayoutView",
            "align_content": null,
            "align_items": null,
            "align_self": null,
            "border": null,
            "bottom": null,
            "display": null,
            "flex": null,
            "flex_flow": null,
            "grid_area": null,
            "grid_auto_columns": null,
            "grid_auto_flow": null,
            "grid_auto_rows": null,
            "grid_column": null,
            "grid_gap": null,
            "grid_row": null,
            "grid_template_areas": null,
            "grid_template_columns": null,
            "grid_template_rows": null,
            "height": null,
            "justify_content": null,
            "justify_items": null,
            "left": null,
            "margin": null,
            "max_height": null,
            "max_width": null,
            "min_height": null,
            "min_width": null,
            "object_fit": null,
            "object_position": null,
            "order": null,
            "overflow": null,
            "overflow_x": null,
            "overflow_y": null,
            "padding": null,
            "right": null,
            "top": null,
            "visibility": null,
            "width": null
          }
        },
        "2d65759e87b84ed68208b6ce31dc92a4": {
          "model_module": "@jupyter-widgets/controls",
          "model_name": "ProgressStyleModel",
          "model_module_version": "1.5.0",
          "state": {
            "_model_module": "@jupyter-widgets/controls",
            "_model_module_version": "1.5.0",
            "_model_name": "ProgressStyleModel",
            "_view_count": null,
            "_view_module": "@jupyter-widgets/base",
            "_view_module_version": "1.2.0",
            "_view_name": "StyleView",
            "bar_color": null,
            "description_width": ""
          }
        },
        "d74baf8bf1554df08218e71cbff998d9": {
          "model_module": "@jupyter-widgets/base",
          "model_name": "LayoutModel",
          "model_module_version": "1.2.0",
          "state": {
            "_model_module": "@jupyter-widgets/base",
            "_model_module_version": "1.2.0",
            "_model_name": "LayoutModel",
            "_view_count": null,
            "_view_module": "@jupyter-widgets/base",
            "_view_module_version": "1.2.0",
            "_view_name": "LayoutView",
            "align_content": null,
            "align_items": null,
            "align_self": null,
            "border": null,
            "bottom": null,
            "display": null,
            "flex": null,
            "flex_flow": null,
            "grid_area": null,
            "grid_auto_columns": null,
            "grid_auto_flow": null,
            "grid_auto_rows": null,
            "grid_column": null,
            "grid_gap": null,
            "grid_row": null,
            "grid_template_areas": null,
            "grid_template_columns": null,
            "grid_template_rows": null,
            "height": null,
            "justify_content": null,
            "justify_items": null,
            "left": null,
            "margin": null,
            "max_height": null,
            "max_width": null,
            "min_height": null,
            "min_width": null,
            "object_fit": null,
            "object_position": null,
            "order": null,
            "overflow": null,
            "overflow_x": null,
            "overflow_y": null,
            "padding": null,
            "right": null,
            "top": null,
            "visibility": null,
            "width": null
          }
        },
        "697d8dddb5694ecf881e0925513f2030": {
          "model_module": "@jupyter-widgets/controls",
          "model_name": "DescriptionStyleModel",
          "model_module_version": "1.5.0",
          "state": {
            "_model_module": "@jupyter-widgets/controls",
            "_model_module_version": "1.5.0",
            "_model_name": "DescriptionStyleModel",
            "_view_count": null,
            "_view_module": "@jupyter-widgets/base",
            "_view_module_version": "1.2.0",
            "_view_name": "StyleView",
            "description_width": ""
          }
        },
        "3dfdb9be6eca442496e81f09b2c39b09": {
          "model_module": "@jupyter-widgets/controls",
          "model_name": "HBoxModel",
          "model_module_version": "1.5.0",
          "state": {
            "_dom_classes": [],
            "_model_module": "@jupyter-widgets/controls",
            "_model_module_version": "1.5.0",
            "_model_name": "HBoxModel",
            "_view_count": null,
            "_view_module": "@jupyter-widgets/controls",
            "_view_module_version": "1.5.0",
            "_view_name": "HBoxView",
            "box_style": "",
            "children": [
              "IPY_MODEL_c4c1d5d1341740e09973078093fe390e",
              "IPY_MODEL_7f4c1349bd9b4c1d8b184a043cfeba87",
              "IPY_MODEL_c63aae31d4724d78b963f5ee88a4b04d"
            ],
            "layout": "IPY_MODEL_6607609e789f454e8fb678b550067112"
          }
        },
        "c4c1d5d1341740e09973078093fe390e": {
          "model_module": "@jupyter-widgets/controls",
          "model_name": "HTMLModel",
          "model_module_version": "1.5.0",
          "state": {
            "_dom_classes": [],
            "_model_module": "@jupyter-widgets/controls",
            "_model_module_version": "1.5.0",
            "_model_name": "HTMLModel",
            "_view_count": null,
            "_view_module": "@jupyter-widgets/controls",
            "_view_module_version": "1.5.0",
            "_view_name": "HTMLView",
            "description": "",
            "description_tooltip": null,
            "layout": "IPY_MODEL_71d01484a2eb43828658acebb62084b1",
            "placeholder": "​",
            "style": "IPY_MODEL_3ba4590acce64b3eace8e93f9d4262c1",
            "value": "Downloading: 100%"
          }
        },
        "7f4c1349bd9b4c1d8b184a043cfeba87": {
          "model_module": "@jupyter-widgets/controls",
          "model_name": "FloatProgressModel",
          "model_module_version": "1.5.0",
          "state": {
            "_dom_classes": [],
            "_model_module": "@jupyter-widgets/controls",
            "_model_module_version": "1.5.0",
            "_model_name": "FloatProgressModel",
            "_view_count": null,
            "_view_module": "@jupyter-widgets/controls",
            "_view_module_version": "1.5.0",
            "_view_name": "ProgressView",
            "bar_style": "success",
            "description": "",
            "description_tooltip": null,
            "layout": "IPY_MODEL_2888ff04f6a64af0a44942104bee2e75",
            "max": 435797,
            "min": 0,
            "orientation": "horizontal",
            "style": "IPY_MODEL_65d4973247df4b1d9e600d8988314bb1",
            "value": 435797
          }
        },
        "c63aae31d4724d78b963f5ee88a4b04d": {
          "model_module": "@jupyter-widgets/controls",
          "model_name": "HTMLModel",
          "model_module_version": "1.5.0",
          "state": {
            "_dom_classes": [],
            "_model_module": "@jupyter-widgets/controls",
            "_model_module_version": "1.5.0",
            "_model_name": "HTMLModel",
            "_view_count": null,
            "_view_module": "@jupyter-widgets/controls",
            "_view_module_version": "1.5.0",
            "_view_name": "HTMLView",
            "description": "",
            "description_tooltip": null,
            "layout": "IPY_MODEL_9d1c6acd2b324d17873f8e41ca9d3b8e",
            "placeholder": "​",
            "style": "IPY_MODEL_526e729782dd4e87919002c5c140feea",
            "value": " 426k/426k [00:00&lt;00:00, 978kB/s]"
          }
        },
        "6607609e789f454e8fb678b550067112": {
          "model_module": "@jupyter-widgets/base",
          "model_name": "LayoutModel",
          "model_module_version": "1.2.0",
          "state": {
            "_model_module": "@jupyter-widgets/base",
            "_model_module_version": "1.2.0",
            "_model_name": "LayoutModel",
            "_view_count": null,
            "_view_module": "@jupyter-widgets/base",
            "_view_module_version": "1.2.0",
            "_view_name": "LayoutView",
            "align_content": null,
            "align_items": null,
            "align_self": null,
            "border": null,
            "bottom": null,
            "display": null,
            "flex": null,
            "flex_flow": null,
            "grid_area": null,
            "grid_auto_columns": null,
            "grid_auto_flow": null,
            "grid_auto_rows": null,
            "grid_column": null,
            "grid_gap": null,
            "grid_row": null,
            "grid_template_areas": null,
            "grid_template_columns": null,
            "grid_template_rows": null,
            "height": null,
            "justify_content": null,
            "justify_items": null,
            "left": null,
            "margin": null,
            "max_height": null,
            "max_width": null,
            "min_height": null,
            "min_width": null,
            "object_fit": null,
            "object_position": null,
            "order": null,
            "overflow": null,
            "overflow_x": null,
            "overflow_y": null,
            "padding": null,
            "right": null,
            "top": null,
            "visibility": null,
            "width": null
          }
        },
        "71d01484a2eb43828658acebb62084b1": {
          "model_module": "@jupyter-widgets/base",
          "model_name": "LayoutModel",
          "model_module_version": "1.2.0",
          "state": {
            "_model_module": "@jupyter-widgets/base",
            "_model_module_version": "1.2.0",
            "_model_name": "LayoutModel",
            "_view_count": null,
            "_view_module": "@jupyter-widgets/base",
            "_view_module_version": "1.2.0",
            "_view_name": "LayoutView",
            "align_content": null,
            "align_items": null,
            "align_self": null,
            "border": null,
            "bottom": null,
            "display": null,
            "flex": null,
            "flex_flow": null,
            "grid_area": null,
            "grid_auto_columns": null,
            "grid_auto_flow": null,
            "grid_auto_rows": null,
            "grid_column": null,
            "grid_gap": null,
            "grid_row": null,
            "grid_template_areas": null,
            "grid_template_columns": null,
            "grid_template_rows": null,
            "height": null,
            "justify_content": null,
            "justify_items": null,
            "left": null,
            "margin": null,
            "max_height": null,
            "max_width": null,
            "min_height": null,
            "min_width": null,
            "object_fit": null,
            "object_position": null,
            "order": null,
            "overflow": null,
            "overflow_x": null,
            "overflow_y": null,
            "padding": null,
            "right": null,
            "top": null,
            "visibility": null,
            "width": null
          }
        },
        "3ba4590acce64b3eace8e93f9d4262c1": {
          "model_module": "@jupyter-widgets/controls",
          "model_name": "DescriptionStyleModel",
          "model_module_version": "1.5.0",
          "state": {
            "_model_module": "@jupyter-widgets/controls",
            "_model_module_version": "1.5.0",
            "_model_name": "DescriptionStyleModel",
            "_view_count": null,
            "_view_module": "@jupyter-widgets/base",
            "_view_module_version": "1.2.0",
            "_view_name": "StyleView",
            "description_width": ""
          }
        },
        "2888ff04f6a64af0a44942104bee2e75": {
          "model_module": "@jupyter-widgets/base",
          "model_name": "LayoutModel",
          "model_module_version": "1.2.0",
          "state": {
            "_model_module": "@jupyter-widgets/base",
            "_model_module_version": "1.2.0",
            "_model_name": "LayoutModel",
            "_view_count": null,
            "_view_module": "@jupyter-widgets/base",
            "_view_module_version": "1.2.0",
            "_view_name": "LayoutView",
            "align_content": null,
            "align_items": null,
            "align_self": null,
            "border": null,
            "bottom": null,
            "display": null,
            "flex": null,
            "flex_flow": null,
            "grid_area": null,
            "grid_auto_columns": null,
            "grid_auto_flow": null,
            "grid_auto_rows": null,
            "grid_column": null,
            "grid_gap": null,
            "grid_row": null,
            "grid_template_areas": null,
            "grid_template_columns": null,
            "grid_template_rows": null,
            "height": null,
            "justify_content": null,
            "justify_items": null,
            "left": null,
            "margin": null,
            "max_height": null,
            "max_width": null,
            "min_height": null,
            "min_width": null,
            "object_fit": null,
            "object_position": null,
            "order": null,
            "overflow": null,
            "overflow_x": null,
            "overflow_y": null,
            "padding": null,
            "right": null,
            "top": null,
            "visibility": null,
            "width": null
          }
        },
        "65d4973247df4b1d9e600d8988314bb1": {
          "model_module": "@jupyter-widgets/controls",
          "model_name": "ProgressStyleModel",
          "model_module_version": "1.5.0",
          "state": {
            "_model_module": "@jupyter-widgets/controls",
            "_model_module_version": "1.5.0",
            "_model_name": "ProgressStyleModel",
            "_view_count": null,
            "_view_module": "@jupyter-widgets/base",
            "_view_module_version": "1.2.0",
            "_view_name": "StyleView",
            "bar_color": null,
            "description_width": ""
          }
        },
        "9d1c6acd2b324d17873f8e41ca9d3b8e": {
          "model_module": "@jupyter-widgets/base",
          "model_name": "LayoutModel",
          "model_module_version": "1.2.0",
          "state": {
            "_model_module": "@jupyter-widgets/base",
            "_model_module_version": "1.2.0",
            "_model_name": "LayoutModel",
            "_view_count": null,
            "_view_module": "@jupyter-widgets/base",
            "_view_module_version": "1.2.0",
            "_view_name": "LayoutView",
            "align_content": null,
            "align_items": null,
            "align_self": null,
            "border": null,
            "bottom": null,
            "display": null,
            "flex": null,
            "flex_flow": null,
            "grid_area": null,
            "grid_auto_columns": null,
            "grid_auto_flow": null,
            "grid_auto_rows": null,
            "grid_column": null,
            "grid_gap": null,
            "grid_row": null,
            "grid_template_areas": null,
            "grid_template_columns": null,
            "grid_template_rows": null,
            "height": null,
            "justify_content": null,
            "justify_items": null,
            "left": null,
            "margin": null,
            "max_height": null,
            "max_width": null,
            "min_height": null,
            "min_width": null,
            "object_fit": null,
            "object_position": null,
            "order": null,
            "overflow": null,
            "overflow_x": null,
            "overflow_y": null,
            "padding": null,
            "right": null,
            "top": null,
            "visibility": null,
            "width": null
          }
        },
        "526e729782dd4e87919002c5c140feea": {
          "model_module": "@jupyter-widgets/controls",
          "model_name": "DescriptionStyleModel",
          "model_module_version": "1.5.0",
          "state": {
            "_model_module": "@jupyter-widgets/controls",
            "_model_module_version": "1.5.0",
            "_model_name": "DescriptionStyleModel",
            "_view_count": null,
            "_view_module": "@jupyter-widgets/base",
            "_view_module_version": "1.2.0",
            "_view_name": "StyleView",
            "description_width": ""
          }
        },
        "69f21ed45c69426d9e90802a18c2b998": {
          "model_module": "@jupyter-widgets/controls",
          "model_name": "HBoxModel",
          "model_module_version": "1.5.0",
          "state": {
            "_dom_classes": [],
            "_model_module": "@jupyter-widgets/controls",
            "_model_module_version": "1.5.0",
            "_model_name": "HBoxModel",
            "_view_count": null,
            "_view_module": "@jupyter-widgets/controls",
            "_view_module_version": "1.5.0",
            "_view_name": "HBoxView",
            "box_style": "",
            "children": [
              "IPY_MODEL_82c006587f424f63b168e9bf2543f727",
              "IPY_MODEL_35615fbd8c8c4fa88bde935fc8f93046",
              "IPY_MODEL_3f4573cfcc4041d0b392179b6c74def4"
            ],
            "layout": "IPY_MODEL_e617a6ea26774b429aaae37b04104116"
          }
        },
        "82c006587f424f63b168e9bf2543f727": {
          "model_module": "@jupyter-widgets/controls",
          "model_name": "HTMLModel",
          "model_module_version": "1.5.0",
          "state": {
            "_dom_classes": [],
            "_model_module": "@jupyter-widgets/controls",
            "_model_module_version": "1.5.0",
            "_model_name": "HTMLModel",
            "_view_count": null,
            "_view_module": "@jupyter-widgets/controls",
            "_view_module_version": "1.5.0",
            "_view_name": "HTMLView",
            "description": "",
            "description_tooltip": null,
            "layout": "IPY_MODEL_4138758d07eb4b39b3eab3649b7ee988",
            "placeholder": "​",
            "style": "IPY_MODEL_a3df35b02315454bbbedef99c9675452",
            "value": "Downloading: 100%"
          }
        },
        "35615fbd8c8c4fa88bde935fc8f93046": {
          "model_module": "@jupyter-widgets/controls",
          "model_name": "FloatProgressModel",
          "model_module_version": "1.5.0",
          "state": {
            "_dom_classes": [],
            "_model_module": "@jupyter-widgets/controls",
            "_model_module_version": "1.5.0",
            "_model_name": "FloatProgressModel",
            "_view_count": null,
            "_view_module": "@jupyter-widgets/controls",
            "_view_module_version": "1.5.0",
            "_view_name": "ProgressView",
            "bar_style": "success",
            "description": "",
            "description_tooltip": null,
            "layout": "IPY_MODEL_45f9f6f686104763aef22bd7e0057e3c",
            "max": 526681800,
            "min": 0,
            "orientation": "horizontal",
            "style": "IPY_MODEL_60b65252c4a8437db2a329c8ff97f9d0",
            "value": 526681800
          }
        },
        "3f4573cfcc4041d0b392179b6c74def4": {
          "model_module": "@jupyter-widgets/controls",
          "model_name": "HTMLModel",
          "model_module_version": "1.5.0",
          "state": {
            "_dom_classes": [],
            "_model_module": "@jupyter-widgets/controls",
            "_model_module_version": "1.5.0",
            "_model_name": "HTMLModel",
            "_view_count": null,
            "_view_module": "@jupyter-widgets/controls",
            "_view_module_version": "1.5.0",
            "_view_name": "HTMLView",
            "description": "",
            "description_tooltip": null,
            "layout": "IPY_MODEL_f87e9c33c2e44787acead3e5e3f2a91f",
            "placeholder": "​",
            "style": "IPY_MODEL_d6e7c4627e054bc084023bf20b37dc18",
            "value": " 502M/502M [00:15&lt;00:00, 59.5MB/s]"
          }
        },
        "e617a6ea26774b429aaae37b04104116": {
          "model_module": "@jupyter-widgets/base",
          "model_name": "LayoutModel",
          "model_module_version": "1.2.0",
          "state": {
            "_model_module": "@jupyter-widgets/base",
            "_model_module_version": "1.2.0",
            "_model_name": "LayoutModel",
            "_view_count": null,
            "_view_module": "@jupyter-widgets/base",
            "_view_module_version": "1.2.0",
            "_view_name": "LayoutView",
            "align_content": null,
            "align_items": null,
            "align_self": null,
            "border": null,
            "bottom": null,
            "display": null,
            "flex": null,
            "flex_flow": null,
            "grid_area": null,
            "grid_auto_columns": null,
            "grid_auto_flow": null,
            "grid_auto_rows": null,
            "grid_column": null,
            "grid_gap": null,
            "grid_row": null,
            "grid_template_areas": null,
            "grid_template_columns": null,
            "grid_template_rows": null,
            "height": null,
            "justify_content": null,
            "justify_items": null,
            "left": null,
            "margin": null,
            "max_height": null,
            "max_width": null,
            "min_height": null,
            "min_width": null,
            "object_fit": null,
            "object_position": null,
            "order": null,
            "overflow": null,
            "overflow_x": null,
            "overflow_y": null,
            "padding": null,
            "right": null,
            "top": null,
            "visibility": null,
            "width": null
          }
        },
        "4138758d07eb4b39b3eab3649b7ee988": {
          "model_module": "@jupyter-widgets/base",
          "model_name": "LayoutModel",
          "model_module_version": "1.2.0",
          "state": {
            "_model_module": "@jupyter-widgets/base",
            "_model_module_version": "1.2.0",
            "_model_name": "LayoutModel",
            "_view_count": null,
            "_view_module": "@jupyter-widgets/base",
            "_view_module_version": "1.2.0",
            "_view_name": "LayoutView",
            "align_content": null,
            "align_items": null,
            "align_self": null,
            "border": null,
            "bottom": null,
            "display": null,
            "flex": null,
            "flex_flow": null,
            "grid_area": null,
            "grid_auto_columns": null,
            "grid_auto_flow": null,
            "grid_auto_rows": null,
            "grid_column": null,
            "grid_gap": null,
            "grid_row": null,
            "grid_template_areas": null,
            "grid_template_columns": null,
            "grid_template_rows": null,
            "height": null,
            "justify_content": null,
            "justify_items": null,
            "left": null,
            "margin": null,
            "max_height": null,
            "max_width": null,
            "min_height": null,
            "min_width": null,
            "object_fit": null,
            "object_position": null,
            "order": null,
            "overflow": null,
            "overflow_x": null,
            "overflow_y": null,
            "padding": null,
            "right": null,
            "top": null,
            "visibility": null,
            "width": null
          }
        },
        "a3df35b02315454bbbedef99c9675452": {
          "model_module": "@jupyter-widgets/controls",
          "model_name": "DescriptionStyleModel",
          "model_module_version": "1.5.0",
          "state": {
            "_model_module": "@jupyter-widgets/controls",
            "_model_module_version": "1.5.0",
            "_model_name": "DescriptionStyleModel",
            "_view_count": null,
            "_view_module": "@jupyter-widgets/base",
            "_view_module_version": "1.2.0",
            "_view_name": "StyleView",
            "description_width": ""
          }
        },
        "45f9f6f686104763aef22bd7e0057e3c": {
          "model_module": "@jupyter-widgets/base",
          "model_name": "LayoutModel",
          "model_module_version": "1.2.0",
          "state": {
            "_model_module": "@jupyter-widgets/base",
            "_model_module_version": "1.2.0",
            "_model_name": "LayoutModel",
            "_view_count": null,
            "_view_module": "@jupyter-widgets/base",
            "_view_module_version": "1.2.0",
            "_view_name": "LayoutView",
            "align_content": null,
            "align_items": null,
            "align_self": null,
            "border": null,
            "bottom": null,
            "display": null,
            "flex": null,
            "flex_flow": null,
            "grid_area": null,
            "grid_auto_columns": null,
            "grid_auto_flow": null,
            "grid_auto_rows": null,
            "grid_column": null,
            "grid_gap": null,
            "grid_row": null,
            "grid_template_areas": null,
            "grid_template_columns": null,
            "grid_template_rows": null,
            "height": null,
            "justify_content": null,
            "justify_items": null,
            "left": null,
            "margin": null,
            "max_height": null,
            "max_width": null,
            "min_height": null,
            "min_width": null,
            "object_fit": null,
            "object_position": null,
            "order": null,
            "overflow": null,
            "overflow_x": null,
            "overflow_y": null,
            "padding": null,
            "right": null,
            "top": null,
            "visibility": null,
            "width": null
          }
        },
        "60b65252c4a8437db2a329c8ff97f9d0": {
          "model_module": "@jupyter-widgets/controls",
          "model_name": "ProgressStyleModel",
          "model_module_version": "1.5.0",
          "state": {
            "_model_module": "@jupyter-widgets/controls",
            "_model_module_version": "1.5.0",
            "_model_name": "ProgressStyleModel",
            "_view_count": null,
            "_view_module": "@jupyter-widgets/base",
            "_view_module_version": "1.2.0",
            "_view_name": "StyleView",
            "bar_color": null,
            "description_width": ""
          }
        },
        "f87e9c33c2e44787acead3e5e3f2a91f": {
          "model_module": "@jupyter-widgets/base",
          "model_name": "LayoutModel",
          "model_module_version": "1.2.0",
          "state": {
            "_model_module": "@jupyter-widgets/base",
            "_model_module_version": "1.2.0",
            "_model_name": "LayoutModel",
            "_view_count": null,
            "_view_module": "@jupyter-widgets/base",
            "_view_module_version": "1.2.0",
            "_view_name": "LayoutView",
            "align_content": null,
            "align_items": null,
            "align_self": null,
            "border": null,
            "bottom": null,
            "display": null,
            "flex": null,
            "flex_flow": null,
            "grid_area": null,
            "grid_auto_columns": null,
            "grid_auto_flow": null,
            "grid_auto_rows": null,
            "grid_column": null,
            "grid_gap": null,
            "grid_row": null,
            "grid_template_areas": null,
            "grid_template_columns": null,
            "grid_template_rows": null,
            "height": null,
            "justify_content": null,
            "justify_items": null,
            "left": null,
            "margin": null,
            "max_height": null,
            "max_width": null,
            "min_height": null,
            "min_width": null,
            "object_fit": null,
            "object_position": null,
            "order": null,
            "overflow": null,
            "overflow_x": null,
            "overflow_y": null,
            "padding": null,
            "right": null,
            "top": null,
            "visibility": null,
            "width": null
          }
        },
        "d6e7c4627e054bc084023bf20b37dc18": {
          "model_module": "@jupyter-widgets/controls",
          "model_name": "DescriptionStyleModel",
          "model_module_version": "1.5.0",
          "state": {
            "_model_module": "@jupyter-widgets/controls",
            "_model_module_version": "1.5.0",
            "_model_name": "DescriptionStyleModel",
            "_view_count": null,
            "_view_module": "@jupyter-widgets/base",
            "_view_module_version": "1.2.0",
            "_view_name": "StyleView",
            "description_width": ""
          }
        }
      }
    }
  },
  "nbformat": 4,
  "nbformat_minor": 0
}